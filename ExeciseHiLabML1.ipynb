{
  "nbformat": 4,
  "nbformat_minor": 0,
  "metadata": {
    "colab": {
      "name": "ExeciseHiLabML1.ipynb",
      "provenance": [],
      "collapsed_sections": [],
      "toc_visible": true,
      "include_colab_link": true
    },
    "kernelspec": {
      "display_name": "Python 3",
      "name": "python3"
    }
  },
  "cells": [
    {
      "cell_type": "markdown",
      "metadata": {
        "id": "view-in-github",
        "colab_type": "text"
      },
      "source": [
        "<a href=\"https://colab.research.google.com/github/HydroinformaticsLab/ColabWorkshop/blob/master/ExeciseHiLabML1.ipynb\" target=\"_parent\"><img src=\"https://colab.research.google.com/assets/colab-badge.svg\" alt=\"Open In Colab\"/></a>"
      ]
    },
    {
      "cell_type": "markdown",
      "metadata": {
        "colab_type": "text",
        "id": "SB93Ge748VQs"
      },
      "source": [
        "##### Gerald Augusto Corzo \n",
        "Practice Colab, IHE Delft 2020 - 07- 25\n",
        "Session 2"
      ]
    },
    {
      "cell_type": "markdown",
      "metadata": {
        "colab_type": "text",
        "id": "HEYuO5NFwDK9"
      },
      "source": [
        "# Exercise 1\n",
        "\n",
        "Reding rainfall data from different sources\n",
        "\n",
        "1. Read Era5 raster data from API\n",
        "2. From Gdrive\n",
        "3. Using google earth engine \n",
        "\n"
      ]
    },
    {
      "cell_type": "markdown",
      "metadata": {
        "id": "uyZ6I6WGoCAx",
        "colab_type": "text"
      },
      "source": [
        "\n",
        "<table class=\"tfo-notebook-buttons\" align=\"left\">\n",
        "  <td>\n",
        "    <a target=\"_blank\" href=\"https://colab.research.google.com/drive/1d79vtB9U2tsbCLdKom7oU_Hr1WhkPbqs#scrollTo=uyZ6I6WGoCAx\"><img src=\"https://www.tensorflow.org/images/colab_logo_32px.png\" />Run in Google Colab</a>\n",
        "  </td>\n",
        "  <td>\n",
        "    <a target=\"_blank\" href=\"https://github.com/HydroinformaticsLab/ColabWorkshop/blob/master/ExeciseHiLabML1.ipynb\"><img src=\"https://www.tensorflow.org/images/GitHub-Mark-32px.png\" />View source on GitHub</a>\n",
        "  </td>\n",
        "</table>"
      ]
    },
    {
      "cell_type": "code",
      "metadata": {
        "id": "O5AgsPye61Q0",
        "colab_type": "code",
        "outputId": "5bd89d04-b06e-4a24-e332-8f0c3192930f",
        "colab": {
          "base_uri": "https://localhost:8080/",
          "height": 69
        },
        "cellView": "form"
      },
      "source": [
        "#@title Magic tools for jupyter notebook\n",
        "%%html\n",
        "<marquee style='width: 50%; color: blue;'><b>Welcome to Hydroinformatics Lab session</b></marquee>\n",
        "<br>\n",
        "\n",
        "#@markdown To be able to load any jupyter extension %load_ext\n",
        "\n",
        "#@markdown To be able to use Jupyter Magic features just use %%"
      ],
      "execution_count": 16,
      "outputs": [
        {
          "output_type": "display_data",
          "data": {
            "text/html": [
              "<marquee style='width: 50%; color: blue;'><b>Welcome to Hydroinformatics Lab session</b></marquee>\n",
              "<br>\n",
              "\n",
              "#@markdown To be able to load any jupyter extension %load_ext\n",
              "\n",
              "#@markdown To be able to use Jupyter Magic features just use %%"
            ],
            "text/plain": [
              "<IPython.core.display.HTML object>"
            ]
          },
          "metadata": {
            "tags": []
          }
        }
      ]
    },
    {
      "cell_type": "markdown",
      "metadata": {
        "id": "wYLj6rDJr3eZ",
        "colab_type": "text"
      },
      "source": [
        "## 1) Reading Era5 Reanalysis data\n",
        "\n",
        "\n",
        "We would like to analyze the time series data from \n",
        "\n",
        "https://cds.climate.copernicus.eu/cdsapp#!/dataset/reanalysis-era5-single-levels?tab=overview\n",
        "\n"
      ]
    },
    {
      "cell_type": "markdown",
      "metadata": {
        "id": "-qcUsmJYUa7z",
        "colab_type": "text"
      },
      "source": [
        "\n",
        "#### Seeting up the environment\n",
        "\n",
        "We will use the API from the copernicus climate website, please register. And look for the API information and the process to register the API on your local machien (key and url).\n",
        "\n",
        "https://cds.climate.copernicus.eu/api-how-to\n",
        "\n",
        "\n",
        "You need to register and obtain the two parameters below "
      ]
    },
    {
      "cell_type": "code",
      "metadata": {
        "id": "13sS3ldAEXlh",
        "colab_type": "code",
        "colab": {}
      },
      "source": [
        "#!echo \"url: https://cds.climate.copernicus.eu/api/v2\" > $HOME/.cdsapirc\n",
        "#!echo \"key: 18475:0918427e-3da7-45da-991c-161d92b9b707\" >> $HOME/.cdsapirc\n",
        "#!pip install cdsapi\n",
        "[-87.60483030714467,13.402246848143117]\n",
        "[-86.62704710401967,13.402246848143117]\n",
        "[-86.62704710401967,13.925339395097156]\n",
        "[-87.60483030714467,13.925339395097156]\n",
        "[-87.60483030714467,13.402246848143117]"
      ],
      "execution_count": 0,
      "outputs": []
    },
    {
      "cell_type": "markdown",
      "metadata": {
        "id": "1SQp9VmnymMg",
        "colab_type": "text"
      },
      "source": [
        "To map the region where the rain is falling we are going to select the \n",
        "\n",
        "\n",
        "\n",
        "!echo \"url: https://cds.climate.copernicus.eu/api/v2\" > $HOME/.cdsapirc\n",
        "\n",
        "\n",
        "!echo \"key: 18475:0918427e-3da7-45da-991c-161d92b9b707\" >> $HOME/.cdsapirc"
      ]
    },
    {
      "cell_type": "code",
      "metadata": {
        "id": "c7MzigJ_EVFl",
        "colab_type": "code",
        "colab": {
          "base_uri": "https://localhost:8080/",
          "height": 315
        },
        "outputId": "9d09249f-ba1c-4fe9-cc44-26bb2ae5acec"
      },
      "source": [
        "import cdsapi\n",
        "import xarray as xr\n",
        "product = 'reanalysis-era5-single-levels'\n",
        "request = {'product_type': 'reanalysis',\n",
        "           'format': 'netcdf',\n",
        "           'day': ['01', '02', '03', '04', '05', '06', '07', '08', '09', '10',\n",
        "                   '11', '12', '13', '14', '15', '16', '17', '18', '19', '20', '21',\n",
        "                   '22', '23', '24', '25', ' 26', '27', '28', '29', '30', '31'],\n",
        "           'time': ['00:00', '01:00', '02:00', '03:00', '04:00', '05:00',\n",
        "                    '06:00', '07:00', '08:00', '09:00', '10:00', '11:00', '12:00',\n",
        "                    '13:00', '14:00', '15:00', '16:00', '17:00', '18:00', '19:00',\n",
        "                    '20:00', '21:00', '22:00', '23:00'],\n",
        "           'area': [-87.66, -87.65, 13.4, 13.92],\n",
        "           'year': 2016,\n",
        "           'month': 1,\n",
        "           'variable': ['100m_u_component_of_wind',\n",
        "                        '100m_v_component_of_wind',\n",
        "                        '2m_temperature',\n",
        "                        'runoff',\n",
        "                        'soil_temperature_level_4',\n",
        "                        'surface_net_solar_radiation',\n",
        "                        'surface_pressure',\n",
        "                        'surface_solar_radiation_downwards',\n",
        "                        'toa_incident_solar_radiation',\n",
        "                        'total_sky_direct_solar_radiation_at_surface']}\n",
        "\n",
        "result = cdsapi.Client().retrieve(\n",
        "    product,\n",
        "    request\n",
        ")\n",
        "\n",
        "result.download(\"test.nc\")\n",
        "\n",
        "ds = xr.open_dataset(\"test.nc\")\n",
        "ds['ro'].to_series().describe()"
      ],
      "execution_count": 12,
      "outputs": [
        {
          "output_type": "stream",
          "text": [
            "2020-05-25 09:11:55,475 INFO Welcome to the CDS\n",
            "2020-05-25 09:11:55,476 INFO Sending request to https://cds.climate.copernicus.eu/api/v2/resources/reanalysis-era5-single-levels\n",
            "2020-05-25 09:11:56,590 INFO Request is queued\n",
            "2020-05-25 09:11:57,846 INFO Request is running\n",
            "2020-05-25 09:20:20,298 INFO Request is completed\n",
            "2020-05-25 09:20:20,302 INFO Downloading http://136.156.133.42/cache-compute-0014/cache/data2/adaptor.mars.internal-1590397916.6492705-14884-19-52c9b005-bc81-414c-9ce5-6f4345fbd108.nc to test.nc (377.6M)\n",
            "2020-05-25 09:21:40,161 INFO Download rate 4.7M/s\n"
          ],
          "name": "stderr"
        },
        {
          "output_type": "execute_result",
          "data": {
            "text/plain": [
              "count    1.979561e+07\n",
              "mean     1.617490e-05\n",
              "std      6.164426e-05\n",
              "min     -4.656613e-10\n",
              "25%     -4.656613e-10\n",
              "50%      3.972091e-07\n",
              "75%      1.391862e-05\n",
              "max      1.303101e-02\n",
              "Name: ro, dtype: float64"
            ]
          },
          "metadata": {
            "tags": []
          },
          "execution_count": 12
        }
      ]
    },
    {
      "cell_type": "code",
      "metadata": {
        "id": "o9gggZsOSUZ_",
        "colab_type": "code",
        "colab": {
          "base_uri": "https://localhost:8080/",
          "height": 434
        },
        "outputId": "26bfdaee-b2c3-4cd0-dadf-2e8cb4a12f27"
      },
      "source": [
        "import matplotlib.pyplot as plt\n",
        "\n",
        "ds['ro'].to_series().plot(title=\"Test\",rot=45 )"
      ],
      "execution_count": 18,
      "outputs": [
        {
          "output_type": "execute_result",
          "data": {
            "text/plain": [
              "<matplotlib.axes._subplots.AxesSubplot at 0x7f2a6ec84710>"
            ]
          },
          "metadata": {
            "tags": []
          },
          "execution_count": 18
        },
        {
          "output_type": "display_data",
          "data": {
            "image/png": "[encoded data removed]",
            "text/plain": [
              "<Figure size 432x288 with 1 Axes>"
            ]
          },
          "metadata": {
            "tags": [],
            "needs_background": "light"
          }
        }
      ]
    },
    {
      "cell_type": "markdown",
      "metadata": {
        "id": "7lkqTXIexKwq",
        "colab_type": "text"
      },
      "source": [
        "\n",
        "### Google earth engine catalog\n",
        "\n",
        "\n",
        "https://developers.google.com/earth-engine/datasets/catalog\n",
        "\n",
        "https://code.earthengine.google.com/?scriptPath=Examples%3ADatasets%2FECMWF_ERA5_DAILY\n",
        "\n",
        "\n",
        "### Short practice in Google earth\n",
        "For this exercise we will select precipitation data. Google earth provide a large variety of data from different sources. Lest select daily aggregates from Era5 <https://developers.google.com/earth-engine/datasets/tags/precipitation>.\n",
        "\n",
        "\n",
        "\n"
      ]
    },
    {
      "cell_type": "markdown",
      "metadata": {
        "id": "vugXAECwp9x2",
        "colab_type": "text"
      },
      "source": [
        "## 2) Reading data from Google earth"
      ]
    },
    {
      "cell_type": "markdown",
      "metadata": {
        "id": "zDfL8DdysNp4",
        "colab_type": "text"
      },
      "source": [
        "### Authenticating google colab \n",
        "\n",
        "This is needed when you run the jupyter notebook from your own terminal "
      ]
    },
    {
      "cell_type": "code",
      "metadata": {
        "id": "5gk6JRhNrxrN",
        "colab_type": "code",
        "colab": {}
      },
      "source": [
        "from google.colab import auth\n",
        "auth.authenticate_user()"
      ],
      "execution_count": 0,
      "outputs": []
    },
    {
      "cell_type": "markdown",
      "metadata": {
        "id": "7azbL8yEsLRm",
        "colab_type": "text"
      },
      "source": [
        "### Authenticating Google Earth Engine (GEE)\n",
        "\n",
        "Google requires the authentication for each cloud service you would like to use. In this case, the library brings its own authentication procedure."
      ]
    },
    {
      "cell_type": "code",
      "metadata": {
        "id": "ZgN9TqVqsLD7",
        "colab_type": "code",
        "colab": {
          "base_uri": "https://localhost:8080/",
          "height": 176
        },
        "outputId": "893dfc7a-9e67-4c2b-fa31-0a69a0265e1e"
      },
      "source": [
        "import ee\n",
        "ee.Authenticate()\n",
        "ee.Initialize()"
      ],
      "execution_count": 2,
      "outputs": [
        {
          "output_type": "stream",
          "text": [
            "To authorize access needed by Earth Engine, open the following URL in a web browser and follow the instructions. If the web browser does not start automatically, please manually browse the URL below.\n",
            "\n",
            "    https://accounts.google.com/o/oauth2/auth?client_id=517222506229-vsmmajv00ul0bs7p89v5m89qs8eb9359.apps.googleusercontent.com&scope=https%3A%2F%2Fwww.googleapis.com%2Fauth%2Fearthengine+https%3A%2F%2Fwww.googleapis.com%2Fauth%2Fdevstorage.full_control&redirect_uri=urn%3Aietf%3Awg%3Aoauth%3A2.0%3Aoob&response_type=code&code_challenge=TMm8CdDhHw3Zr6ZOIwYphlzjZiw3baWXp9GxnczPvhc&code_challenge_method=S256\n",
            "\n",
            "The authorization workflow will generate a code, which you should paste in the box below. \n",
            "Enter verification code: 4/0AFeXaaQbRUOqrNdYW9ILupQbkM7-YHzbaEj5s7Nv8gDlK74UZV9rCY\n",
            "\n",
            "Successfully saved authorization token.\n"
          ],
          "name": "stdout"
        }
      ]
    },
    {
      "cell_type": "markdown",
      "metadata": {
        "id": "xcS8UT2Ev39d",
        "colab_type": "text"
      },
      "source": [
        "### Library for visualization of maps\n",
        "To be able to see a map in google colab you need to have a complementary library. Folium allows to use google earth engine data and plot it as if it was the google platform of Earth Engine.\n",
        "\n"
      ]
    },
    {
      "cell_type": "code",
      "metadata": {
        "colab_type": "code",
        "id": "6B95Hb6YVgPZ",
        "outputId": "2993d245-1643-4532-e80f-b43abd4381b6",
        "colab": {
          "base_uri": "https://localhost:8080/",
          "height": 34
        }
      },
      "source": [
        "import folium\n",
        "print(folium.__version__)"
      ],
      "execution_count": 0,
      "outputs": [
        {
          "output_type": "stream",
          "text": [
            "0.8.3\n"
          ],
          "name": "stdout"
        }
      ]
    },
    {
      "cell_type": "code",
      "metadata": {
        "id": "MPqsfE1_TFQZ",
        "colab_type": "code",
        "colab": {}
      },
      "source": [
        "#For part 1 our target is to access a database and to make a visualization of the data."
      ],
      "execution_count": 0,
      "outputs": []
    },
    {
      "cell_type": "code",
      "metadata": {
        "id": "TLd_598ITFKc",
        "colab_type": "code",
        "colab": {}
      },
      "source": [
        ""
      ],
      "execution_count": 0,
      "outputs": []
    },
    {
      "cell_type": "code",
      "metadata": {
        "id": "z-nelXOvzbR_",
        "colab_type": "code",
        "colab": {}
      },
      "source": [
        ""
      ],
      "execution_count": 0,
      "outputs": []
    },
    {
      "cell_type": "code",
      "metadata": {
        "colab_type": "code",
        "id": "_wqSAZExy6xV",
        "colab": {}
      },
      "source": [
        "# Your Earth Engine username.  This is used to import a classified image\n",
        "# into your Earth Engine assets folder.\n",
        "USER_NAME = 'username'\n",
        "\n",
        "# Cloud Storage bucket into which training, testing and prediction \n",
        "# datasets will be written.  You must be able to write into this bucket.\n",
        "OUTPUT_BUCKET = 'HI store'\n",
        "\n",
        "PEra5=ee.ImageCollection(\"ECMWF/ERA5/DAILY\")\n",
        "BandPEra = ['total_precipitation', 'maximum_2m_air_temperature', 'B4', 'B5', 'B6', 'B7']\n",
        "\n",
        "# Use Landsat 8 surface reflectance data for predictors.\n",
        "L8SR = ee.ImageCollection('LANDSAT/LC08/C01/T1_SR')\n",
        "# Use these bands for prediction.\n",
        "BANDS = ['B2', 'B3', 'B4', 'B5', 'B6', 'B7']"
      ],
      "execution_count": 0,
      "outputs": []
    },
    {
      "cell_type": "markdown",
      "metadata": {
        "id": "fPsFW8_f-sVZ",
        "colab_type": "text"
      },
      "source": [
        "A good website to explore is the following\n",
        "\n",
        " https://github.com/giswqs/earthengine-py-notebooks\n",
        " \n",
        " https://github.com/renelikestacos/Google-Earth-Engine-Python-Examples\n"
      ]
    },
    {
      "cell_type": "code",
      "metadata": {
        "colab_type": "code",
        "id": "Ao7fJW1Pyiza",
        "colab": {}
      },
      "source": [
        "\n",
        "# This is a trianing/testing dataset of points with known land cover labels.\n",
        "LABEL_DATA = ee.FeatureCollection('projects/google/demo_landcover_labels')\n",
        "# The labels, consecutive integer indices starting from zero, are stored in\n",
        "# this property, set on each point.\n",
        "LABEL = 'landcover'\n",
        "# Number of label values, i.e. number of classes in the classification.\n",
        "N_CLASSES = 3\n",
        "\n",
        "# These names are used to specify properties in the export of\n",
        "# training/testing data and to define the mapping between names and data\n",
        "# when reading into TensorFlow datasets.\n",
        "FEATURE_NAMES = list(BANDS)\n",
        "FEATURE_NAMES.append(LABEL)\n",
        "\n",
        "# File names for the training and testing datasets.  These TFRecord files\n",
        "# will be exported from Earth Engine into the Cloud Storage bucket.\n",
        "TRAIN_FILE_PREFIX = 'Training_demo'\n",
        "TEST_FILE_PREFIX = 'Testing_demo'\n",
        "file_extension = '.tfrecord.gz'\n",
        "TRAIN_FILE_PATH = 'gs://' + OUTPUT_BUCKET + '/' + TRAIN_FILE_PREFIX + file_extension\n",
        "TEST_FILE_PATH = 'gs://' + OUTPUT_BUCKET + '/' + TEST_FILE_PREFIX + file_extension\n",
        "\n",
        "# File name for the prediction (image) dataset.  The trained model will read\n",
        "# this dataset and make predictions in each pixel.\n",
        "IMAGE_FILE_PREFIX = 'Image_pixel_demo_'\n",
        "\n",
        "# The output path for the classified image (i.e. predictions) TFRecord file.\n",
        "OUTPUT_IMAGE_FILE = 'gs://' + OUTPUT_BUCKET + '/Classified_pixel_demo.TFRecord'\n",
        "# Export imagery in this region.\n",
        "EXPORT_REGION = ee.Geometry.Rectangle([-122.7, 37.3, -121.8, 38.00])\n",
        "# The name of the Earth Engine asset to be created by importing\n",
        "# the classified image from the TFRecord file in Cloud Storage.\n",
        "OUTPUT_ASSET_ID = 'users/' + USER_NAME + '/Classified_pixel_demo'"
      ],
      "execution_count": 0,
      "outputs": []
    },
    {
      "cell_type": "markdown",
      "metadata": {
        "id": "Xl_Hw7UnqFc-",
        "colab_type": "text"
      },
      "source": [
        "## 3) Reading from Google drive\n",
        "\n"
      ]
    },
    {
      "cell_type": "markdown",
      "metadata": {
        "id": "gFQJ1tbzqTP-",
        "colab_type": "text"
      },
      "source": [
        "Steps\n",
        "1. Open drive.google.com\n",
        "2. Create a folder named  \"practice1\" on the root of gDrive\n",
        "3. Upload a text file with the following content and name it \"data.csv\"\n",
        "\n",
        "\n",
        "A,B,C,D,E, target\n",
        "\n",
        "1,2,3,4,5, 0  \n",
        "\n",
        "12,15,121,124,135, 1\n",
        "\n",
        "213,322,243,214,326, 0\n"
      ]
    },
    {
      "cell_type": "code",
      "metadata": {
        "id": "tYgz4yK_qKKR",
        "colab_type": "code",
        "colab": {}
      },
      "source": [
        "!pwd\n",
        "!ls"
      ],
      "execution_count": 0,
      "outputs": []
    },
    {
      "cell_type": "code",
      "metadata": {
        "id": "-0EGSN_Lq2Y4",
        "colab_type": "code",
        "colab": {}
      },
      "source": [
        "from google.colab import drive\n",
        "drive.mount('/content/drive')"
      ],
      "execution_count": 0,
      "outputs": []
    },
    {
      "cell_type": "code",
      "metadata": {
        "id": "ZB-CVMJiq0Y2",
        "colab_type": "code",
        "colab": {}
      },
      "source": [
        "import os\n",
        "os.chdir(\"drive/practice1\")\n"
      ],
      "execution_count": 0,
      "outputs": []
    },
    {
      "cell_type": "code",
      "metadata": {
        "id": "qPy7_AOMrIYj",
        "colab_type": "code",
        "colab": {}
      },
      "source": [
        "!ls\n",
        "import pandas as pd\n",
        "pd.read_cvs(\"data.csv\")"
      ],
      "execution_count": 0,
      "outputs": []
    },
    {
      "cell_type": "code",
      "metadata": {
        "id": "IYVeqeuMsK_T",
        "colab_type": "code",
        "outputId": "f9430b4d-a293-4974-d531-810c56e0b5c0",
        "colab": {
          "base_uri": "https://localhost:8080/",
          "height": 34
        }
      },
      "source": [
        "import tensorflow as tf\n",
        "print(tf.__version__)"
      ],
      "execution_count": 0,
      "outputs": [
        {
          "output_type": "stream",
          "text": [
            "2.2.0\n"
          ],
          "name": "stdout"
        }
      ]
    }
  ]
}