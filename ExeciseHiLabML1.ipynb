{
  "nbformat": 4,
  "nbformat_minor": 0,
  "metadata": {
    "colab": {
      "name": "ExeciseHiLabML1.ipynb",
      "provenance": [],
      "collapsed_sections": [],
      "include_colab_link": true
    },
    "kernelspec": {
      "display_name": "Python 3",
      "name": "python3"
    }
  },
  "cells": [
    {
      "cell_type": "markdown",
      "metadata": {
        "id": "view-in-github",
        "colab_type": "text"
      },
      "source": [
        "<a href=\"https://colab.research.google.com/github/HydroinformaticsLab/ColabWorkshop/blob/master/ExeciseHiLabML1.ipynb\" target=\"_parent\"><img src=\"https://colab.research.google.com/assets/colab-badge.svg\" alt=\"Open In Colab\"/></a>"
      ]
    },
    {
      "cell_type": "markdown",
      "metadata": {
        "colab_type": "text",
        "id": "SB93Ge748VQs"
      },
      "source": [
        "# Session 2 Reading data in Google Colab\n",
        "\n",
        "##### Gerald Augusto Corzo \n",
        "Practice Colab, IHE Delft 2020 - 07- 28\n",
        "Session 2"
      ]
    },
    {
      "cell_type": "markdown",
      "metadata": {
        "colab_type": "text",
        "id": "HEYuO5NFwDK9"
      },
      "source": [
        "**Contents**\n",
        "\n",
        "Reding rainfall data from different sources\n",
        "\n",
        "1. Reading Excel and CSV\n",
        "2. Read Era5 raster data from API\n",
        "3. Using google earth engine \n",
        "4. From Kaggles website\n",
        "\n"
      ]
    },
    {
      "cell_type": "markdown",
      "metadata": {
        "id": "uyZ6I6WGoCAx",
        "colab_type": "text"
      },
      "source": [
        "\n",
        "<table class=\"tfo-notebook-buttons\" align=\"left\">\n",
        "  <td>\n",
        "    <a target=\"_blank\" href=\"https://colab.research.google.com/drive/1d79vtB9U2tsbCLdKom7oU_Hr1WhkPbqs#scrollTo=uyZ6I6WGoCAx\"><img src=\"https://www.tensorflow.org/images/colab_logo_32px.png\" />Run in Google Colab</a>\n",
        "  </td>\n",
        "  <td>\n",
        "    <a target=\"_blank\" href=\"https://github.com/HydroinformaticsLab/ColabWorkshop/blob/master/ExeciseHiLabML1.ipynb\"><img src=\"https://www.tensorflow.org/images/GitHub-Mark-32px.png\" />View source on GitHub</a>\n",
        "  </td>\n",
        "</table>"
      ]
    },
    {
      "cell_type": "markdown",
      "metadata": {
        "id": "Xl_Hw7UnqFc-",
        "colab_type": "text"
      },
      "source": [
        "# 1) Reading from Excel and CSV \n",
        "\n",
        "This practice will aim at getting acquinted with the Google drive access and reading a simple data set created in a local machine.\n",
        "\n"
      ]
    },
    {
      "cell_type": "markdown",
      "metadata": {
        "id": "yJ_1n1vY5Gh1",
        "colab_type": "text"
      },
      "source": [
        "### Mount your GDrive\n",
        "\n",
        "The first example on how to bring data will be done by GDrive"
      ]
    },
    {
      "cell_type": "markdown",
      "metadata": {
        "id": "gFQJ1tbzqTP-",
        "colab_type": "text"
      },
      "source": [
        "\n",
        "Task: Read a file created by you in the goole colab by uploading it into GDrive and reading it using pandas.\n",
        "\n",
        "Create a file in your computer with the following data\n",
        "\n",
        "A,B,C,D,E, target\n",
        "\n",
        "1,2,3,4,5, 0  \n",
        "\n",
        "12,15,121,124,135, 1\n",
        "\n",
        "213,322,243,214,326, 0\n",
        "\n",
        "Steps\n",
        "1. Open drive.google.com\n",
        "2. Create a folder named  \"practice1\" on the root of gDrive\n",
        "3. Upload a text file with the following content and name it \"data.csv\"\n",
        "\n",
        "Time estimated 10 minutes\n",
        "\n",
        "--- \n",
        "\n"
      ]
    },
    {
      "cell_type": "markdown",
      "metadata": {
        "id": "z25q_MhDDMmh",
        "colab_type": "text"
      },
      "source": [
        "Now see in if the mount drive works\n",
        "\n",
        "Functions to remember in linux are $ls$ and $pwd$, which are meant to help list the contents of a directory and to show the $p$ath of the $w$orking $d$irectory "
      ]
    },
    {
      "cell_type": "code",
      "metadata": {
        "id": "tYgz4yK_qKKR",
        "colab_type": "code",
        "colab": {
          "base_uri": "https://localhost:8080/",
          "height": 52
        },
        "outputId": "38fe5632-bf75-447e-c88a-05baaefcaee6"
      },
      "source": [
        "!pwd\n",
        "!ls"
      ],
      "execution_count": 3,
      "outputs": [
        {
          "output_type": "stream",
          "text": [
            "/content\n",
            "drive  sample_data\n"
          ],
          "name": "stdout"
        }
      ]
    },
    {
      "cell_type": "markdown",
      "metadata": {
        "id": "B9qF7SXtDp8L",
        "colab_type": "text"
      },
      "source": [
        "Now we mount the drive, \n",
        "\n",
        "Note: if you have done it previously then there is no need for this step."
      ]
    },
    {
      "cell_type": "code",
      "metadata": {
        "id": "-0EGSN_Lq2Y4",
        "colab_type": "code",
        "colab": {
          "base_uri": "https://localhost:8080/",
          "height": 124
        },
        "outputId": "9f45af5a-de86-4331-fc78-3b541eb317a3"
      },
      "source": [
        "from google.colab import drive\n",
        "drive.mount('/content/drive')"
      ],
      "execution_count": 2,
      "outputs": [
        {
          "output_type": "stream",
          "text": [
            "Go to this URL in a browser: https://accounts.google.com/o/oauth2/auth?client_id=947318989803-6bn6qk8qdgf4n4g3pfee6491hc0brc4i.apps.googleusercontent.com&redirect_uri=urn%3aietf%3awg%3aoauth%3a2.0%3aoob&response_type=code&scope=email%20https%3a%2f%2fwww.googleapis.com%2fauth%2fdocs.test%20https%3a%2f%2fwww.googleapis.com%2fauth%2fdrive%20https%3a%2f%2fwww.googleapis.com%2fauth%2fdrive.photos.readonly%20https%3a%2f%2fwww.googleapis.com%2fauth%2fpeopleapi.readonly\n",
            "\n",
            "Enter your authorization code:\n",
            "··········\n",
            "Mounted at /content/drive\n"
          ],
          "name": "stdout"
        }
      ]
    },
    {
      "cell_type": "markdown",
      "metadata": {
        "id": "Maiurnw6DyhU",
        "colab_type": "text"
      },
      "source": [
        "To navigate the virtual machine hard drive structure you can also use the python os library. \n",
        "\n",
        "os.chdir makes a change in the location of the current directory"
      ]
    },
    {
      "cell_type": "code",
      "metadata": {
        "id": "ZB-CVMJiq0Y2",
        "colab_type": "code",
        "colab": {}
      },
      "source": [
        "import os\n",
        "os.chdir(\"drive/My Drive/practice1\")\n"
      ],
      "execution_count": 0,
      "outputs": []
    },
    {
      "cell_type": "code",
      "metadata": {
        "id": "GtxQmVLpjvu3",
        "colab_type": "code",
        "colab": {
          "base_uri": "https://localhost:8080/",
          "height": 52
        },
        "outputId": "1bb95c57-6c15-4557-857c-dea38a4ea663"
      },
      "source": [
        "!ls\n",
        "!pwd"
      ],
      "execution_count": 6,
      "outputs": [
        {
          "output_type": "stream",
          "text": [
            "data.gsheet\n",
            "/content/drive/My Drive/practice1\n"
          ],
          "name": "stdout"
        }
      ]
    },
    {
      "cell_type": "markdown",
      "metadata": {
        "id": "A3kr4OtmD-Nm",
        "colab_type": "text"
      },
      "source": [
        "Now we import pandas and read it is done in a normal notebook in your local machine"
      ]
    },
    {
      "cell_type": "code",
      "metadata": {
        "id": "qPy7_AOMrIYj",
        "colab_type": "code",
        "colab": {}
      },
      "source": [
        "!ls\n",
        "import pandas as pd\n",
        "df= pd.read_csv(\"data.csv\")\n",
        "df.describe()\n",
        "df.info()\n",
        "df.summary()"
      ],
      "execution_count": 0,
      "outputs": []
    },
    {
      "cell_type": "markdown",
      "metadata": {
        "id": "zymE5VlOEHoG",
        "colab_type": "text"
      },
      "source": [
        "To plot it, we can add a matplotlib and visualize the contents"
      ]
    },
    {
      "cell_type": "code",
      "metadata": {
        "id": "864aEBuH5GJP",
        "colab_type": "code",
        "colab": {}
      },
      "source": [
        "df.plot()"
      ],
      "execution_count": 0,
      "outputs": []
    },
    {
      "cell_type": "markdown",
      "metadata": {
        "id": "wYLj6rDJr3eZ",
        "colab_type": "text"
      },
      "source": [
        "# 2) Reading Era5 Reanalysis data\n",
        "\n",
        "\n",
        "We would like to analyze the time series data from \n",
        "\n",
        "https://cds.climate.copernicus.eu/cdsapp#!/dataset/reanalysis-era5-single-levels?tab=overview\n",
        "\n"
      ]
    },
    {
      "cell_type": "markdown",
      "metadata": {
        "id": "-qcUsmJYUa7z",
        "colab_type": "text"
      },
      "source": [
        "\n",
        "#### Seeting up the environment\n",
        "\n",
        "We will use the API from the copernicus climate website, please register. And look for the API information and the process to register the API on your local machien (key and url).\n",
        "\n",
        "https://cds.climate.copernicus.eu/api-how-to\n",
        "\n",
        "\n",
        "You need to register and obtain the two parameters below "
      ]
    },
    {
      "cell_type": "code",
      "metadata": {
        "id": "13sS3ldAEXlh",
        "colab_type": "code",
        "colab": {
          "base_uri": "https://localhost:8080/",
          "height": 298
        },
        "outputId": "6e32e91a-d5c9-4d44-d461-644ad56ad048"
      },
      "source": [
        "!echo \"url: https://cds.climate.copernicus.eu/api/v2\" > $HOME/.cdsapirc\n",
        "!echo \"key: 18475:0918427e-3da7-45da-991c-161d92b9b707\" >> $HOME/.cdsapirc\n",
        "\n",
        "!pip install cdsapi\n",
        "\n",
        "#[-87.60483030714467,13.402246848143117]\n",
        "#[-86.62704710401967,13.402246848143117]\n",
        "#[-86.62704710401967,13.925339395097156]\n",
        "#[-87.60483030714467,13.925339395097156]\n",
        "#[-87.60483030714467,13.402246848143117]"
      ],
      "execution_count": 11,
      "outputs": [
        {
          "output_type": "stream",
          "text": [
            "Collecting cdsapi\n",
            "  Downloading https://files.pythonhosted.org/packages/4e/d7/8a0abd3e63c40ad2d7c6eac5fc4bdf13fa72e96a36688822a2fb0ca0814b/cdsapi-0.2.7.tar.gz\n",
            "Requirement already satisfied: requests>=2.5.0 in /usr/local/lib/python3.6/dist-packages (from cdsapi) (2.23.0)\n",
            "Requirement already satisfied: tqdm in /usr/local/lib/python3.6/dist-packages (from cdsapi) (4.41.1)\n",
            "Requirement already satisfied: urllib3!=1.25.0,!=1.25.1,<1.26,>=1.21.1 in /usr/local/lib/python3.6/dist-packages (from requests>=2.5.0->cdsapi) (1.24.3)\n",
            "Requirement already satisfied: chardet<4,>=3.0.2 in /usr/local/lib/python3.6/dist-packages (from requests>=2.5.0->cdsapi) (3.0.4)\n",
            "Requirement already satisfied: certifi>=2017.4.17 in /usr/local/lib/python3.6/dist-packages (from requests>=2.5.0->cdsapi) (2020.4.5.1)\n",
            "Requirement already satisfied: idna<3,>=2.5 in /usr/local/lib/python3.6/dist-packages (from requests>=2.5.0->cdsapi) (2.9)\n",
            "Building wheels for collected packages: cdsapi\n",
            "  Building wheel for cdsapi (setup.py) ... \u001b[?25l\u001b[?25hdone\n",
            "  Created wheel for cdsapi: filename=cdsapi-0.2.7-py2.py3-none-any.whl size=11487 sha256=0c003b5024044d08cd741fc35e21f8759f6d580d1a0fc1f32503489b8ffbde5a\n",
            "  Stored in directory: /root/.cache/pip/wheels/45/dd/13/b6a05d1b30236d50ffcba30bd238fd1db37f6b89cd9ef35951\n",
            "Successfully built cdsapi\n",
            "Installing collected packages: cdsapi\n",
            "Successfully installed cdsapi-0.2.7\n"
          ],
          "name": "stdout"
        }
      ]
    },
    {
      "cell_type": "markdown",
      "metadata": {
        "id": "1SQp9VmnymMg",
        "colab_type": "text"
      },
      "source": [
        "To map the region where the rain is falling we are going to select the \n",
        "\n",
        "\n",
        "\n",
        "!echo \"url: https://cds.climate.copernicus.eu/api/v2\" > $HOME/.cdsapirc\n",
        "\n",
        "\n",
        "!echo \"key: 18475:0918427e-3da7-45da-991c-161d92b9b707\" >> $HOME/.cdsapirc"
      ]
    },
    {
      "cell_type": "code",
      "metadata": {
        "id": "c7MzigJ_EVFl",
        "colab_type": "code",
        "outputId": "91a7d1d9-1743-4cc5-cd25-bb72a68bcc09",
        "colab": {
          "base_uri": "https://localhost:8080/",
          "height": 315
        }
      },
      "source": [
        "import cdsapi\n",
        "import xarray as xr\n",
        "product = 'reanalysis-era5-single-levels'\n",
        "request = {'product_type': 'reanalysis',\n",
        "           'format': 'netcdf',\n",
        "           'day': ['01', '02', '03', '04', '05', '06', '07', '08', '09', '10',\n",
        "                   '11', '12', '13', '14', '15', '16', '17', '18', '19', '20', '21',\n",
        "                   '22', '23', '24', '25', ' 26', '27', '28', '29', '30', '31'],\n",
        "           'time': ['00:00', '01:00', '02:00', '03:00', '04:00', '05:00',\n",
        "                    '06:00', '07:00', '08:00', '09:00', '10:00', '11:00', '12:00',\n",
        "                    '13:00', '14:00', '15:00', '16:00', '17:00', '18:00', '19:00',\n",
        "                    '20:00', '21:00', '22:00', '23:00'],\n",
        "           'area': [-87.66, -87.65, 13.4, 13.92],\n",
        "           'year': 2016,\n",
        "           'month': 1,\n",
        "           'variable': ['100m_u_component_of_wind',\n",
        "                        '100m_v_component_of_wind',\n",
        "                        '2m_temperature',\n",
        "                        'runoff',\n",
        "                        'soil_temperature_level_4',\n",
        "                        'surface_net_solar_radiation',\n",
        "                        'surface_pressure',\n",
        "                        'surface_solar_radiation_downwards',\n",
        "                        'toa_incident_solar_radiation',\n",
        "                        'total_sky_direct_solar_radiation_at_surface']}\n",
        "\n",
        "result = cdsapi.Client().retrieve(\n",
        "    product,\n",
        "    request\n",
        ")\n",
        "\n",
        "result.download(\"test.nc\")\n",
        "\n",
        "ds = xr.open_dataset(\"test.nc\")\n",
        "ds['ro'].to_series().describe()"
      ],
      "execution_count": 12,
      "outputs": [
        {
          "output_type": "stream",
          "text": [
            "2020-05-27 10:29:42,945 INFO Welcome to the CDS\n",
            "2020-05-27 10:29:42,946 INFO Sending request to https://cds.climate.copernicus.eu/api/v2/resources/reanalysis-era5-single-levels\n",
            "2020-05-27 10:29:43,402 INFO Request is queued\n",
            "2020-05-27 10:29:44,506 INFO Request is running\n",
            "2020-05-27 10:40:04,291 INFO Request is completed\n",
            "2020-05-27 10:40:04,294 INFO Downloading http://136.156.133.39/cache-compute-0012/cache/data7/adaptor.mars.internal-1590575383.4526281-16731-1-be382549-d2c1-47c2-93f2-1e11c9872f0d.nc to test.nc (2.3G)\n",
            "2020-05-27 10:43:05,865 INFO Download rate 12.9M/s\n"
          ],
          "name": "stderr"
        },
        {
          "output_type": "execute_result",
          "data": {
            "text/plain": [
              "count    1.226372e+08\n",
              "mean     1.155865e-05\n",
              "std      1.150175e-04\n",
              "min      9.313226e-10\n",
              "25%      9.313226e-10\n",
              "50%      9.313226e-10\n",
              "75%      9.313226e-10\n",
              "max      2.727699e-02\n",
              "Name: ro, dtype: float64"
            ]
          },
          "metadata": {
            "tags": []
          },
          "execution_count": 12
        }
      ]
    },
    {
      "cell_type": "code",
      "metadata": {
        "id": "o9gggZsOSUZ_",
        "colab_type": "code",
        "outputId": "26bfdaee-b2c3-4cd0-dadf-2e8cb4a12f27",
        "colab": {
          "base_uri": "https://localhost:8080/",
          "height": 434
        }
      },
      "source": [
        "import matplotlib.pyplot as plt\n",
        "\n",
        "ds['ro'].to_series().plot(title=\"Test\",rot=45 )"
      ],
      "execution_count": 0,
      "outputs": [
        {
          "output_type": "execute_result",
          "data": {
            "text/plain": [
              "<matplotlib.axes._subplots.AxesSubplot at 0x7f2a6ec84710>"
            ]
          },
          "metadata": {
            "tags": []
          },
          "execution_count": 18
        },
        {
          "output_type": "display_data",
          "data": {
            "image/png": "[encoded data removed]",
            "text/plain": [
              "<Figure size 432x288 with 1 Axes>"
            ]
          },
          "metadata": {
            "tags": [],
            "needs_background": "light"
          }
        }
      ]
    },
    {
      "cell_type": "markdown",
      "metadata": {
        "id": "vugXAECwp9x2",
        "colab_type": "text"
      },
      "source": [
        "# 3) Reading data from Google earth"
      ]
    },
    {
      "cell_type": "markdown",
      "metadata": {
        "id": "7lkqTXIexKwq",
        "colab_type": "text"
      },
      "source": [
        "\n",
        "### Google earth engine catalog\n",
        "\n",
        "\n",
        "https://developers.google.com/earth-engine/datasets/catalog\n",
        "\n",
        "\n",
        "\n",
        "\n"
      ]
    },
    {
      "cell_type": "markdown",
      "metadata": {
        "id": "zDfL8DdysNp4",
        "colab_type": "text"
      },
      "source": [
        "#### google colab \n",
        "\n",
        "This is needed when you run the jupyter notebook from your own terminal "
      ]
    },
    {
      "cell_type": "code",
      "metadata": {
        "id": "5gk6JRhNrxrN",
        "colab_type": "code",
        "colab": {}
      },
      "source": [
        "from google.colab import auth\n",
        "auth.authenticate_user()"
      ],
      "execution_count": 0,
      "outputs": []
    },
    {
      "cell_type": "markdown",
      "metadata": {
        "id": "7azbL8yEsLRm",
        "colab_type": "text"
      },
      "source": [
        "### Authenticating Google Earth Engine (GEE)\n",
        "\n",
        "Google requires the authentication for each cloud service you would like to use. In this case, the library brings its own authentication procedure."
      ]
    },
    {
      "cell_type": "code",
      "metadata": {
        "id": "ZgN9TqVqsLD7",
        "colab_type": "code",
        "outputId": "893dfc7a-9e67-4c2b-fa31-0a69a0265e1e",
        "colab": {
          "base_uri": "https://localhost:8080/",
          "height": 176
        }
      },
      "source": [
        "import ee\n",
        "ee.Authenticate()\n",
        "ee.Initialize()"
      ],
      "execution_count": 0,
      "outputs": [
        {
          "output_type": "stream",
          "text": [
            "To authorize access needed by Earth Engine, open the following URL in a web browser and follow the instructions. If the web browser does not start automatically, please manually browse the URL below.\n",
            "\n",
            "    https://accounts.google.com/o/oauth2/auth?client_id=517222506229-vsmmajv00ul0bs7p89v5m89qs8eb9359.apps.googleusercontent.com&scope=https%3A%2F%2Fwww.googleapis.com%2Fauth%2Fearthengine+https%3A%2F%2Fwww.googleapis.com%2Fauth%2Fdevstorage.full_control&redirect_uri=urn%3Aietf%3Awg%3Aoauth%3A2.0%3Aoob&response_type=code&code_challenge=TMm8CdDhHw3Zr6ZOIwYphlzjZiw3baWXp9GxnczPvhc&code_challenge_method=S256\n",
            "\n",
            "The authorization workflow will generate a code, which you should paste in the box below. \n",
            "Enter verification code: 4/0AFeXaaQbRUOqrNdYW9ILupQbkM7-YHzbaEj5s7Nv8gDlK74UZV9rCY\n",
            "\n",
            "Successfully saved authorization token.\n"
          ],
          "name": "stdout"
        }
      ]
    },
    {
      "cell_type": "markdown",
      "metadata": {
        "id": "1v9p_TDIA10I",
        "colab_type": "text"
      },
      "source": [
        "[Catalog for google earth](https://developers.google.com/earth-engine/datasets/catalog)"
      ]
    },
    {
      "cell_type": "markdown",
      "metadata": {
        "id": "jiPlv4RiA3Ml",
        "colab_type": "text"
      },
      "source": [
        "\n",
        "\n",
        "## Javascrip translation into Python coding\n",
        "\n",
        "In general, most of the google earth engine examples are in javascript so to be able to retrieve you data, you will need to translate code into python. For the sake of simplicity two of the most used translations are presented. However, on the [python API](https://developers.google.com/earth-engine/python_install) site of google you can find a complete table.\n",
        "\n",
        "\n",
        "**This is the code in Javascript**\n",
        "```{js, eval=FALSE}\n",
        "\n",
        "var dataset = ee.ImageCollection('LANDSAT/LC08/C01/T1_8DAY_NDWI')\n",
        "                  .filterDate('2017-01-01', '2017-12-31');\n",
        "var colorized = dataset.select('NDWI');\n",
        "var colorizedVis = {\n",
        "  min: 0.0,\n",
        "  max: 1.0,\n",
        "  palette: ['0000ff', '00ffff', 'ffff00', 'ff0000', 'ffffff'],\n",
        "};\n",
        "Map.setCenter(6.746, 46.529, 6);\n",
        "Map.addLayer(colorized, colorizedVis, 'Colorized');\n",
        "```"
      ]
    },
    {
      "cell_type": "markdown",
      "metadata": {
        "id": "YPhmQY8qA_pF",
        "colab_type": "text"
      },
      "source": [
        "\n",
        "**This is the code in python**\n",
        "```{js, eval=FALSE}\n",
        "\n",
        "dataset = ee.ImageCollection('LANDSAT/LC08/C01/T1_8DAY_NDWI')\n",
        "                  .filterDate('2017-01-01', '2017-12-31');\n",
        "colorized = dataset.select('NDWI');\n",
        "colorizedVis = {\n",
        "  \"min\": 0.0,\n",
        "  \"max\": 1.0,\n",
        "  \"palette\": ['0000ff', '00ffff', 'ffff00', 'ff0000', 'ffffff'],\n",
        "  }\n",
        "\n",
        "Map.setCenter(6.746, 46.529, 6);\n",
        "Map.addLayer(colorized, colorizedVis, 'Colorized');\n",
        "```\n",
        "\n",
        "This is a typical example, where simple var is removed and the json type of information (colorizedVis) is updates such that it looks like a dictionary in python. So in general, only quotations are placed around the variable, in this case min, max and palette.\n",
        "\n",
        "\n",
        "Extra info: You can find more information in the website for GEE at the [Wagening website](https://geoscripting-wur.github.io/Earth_Engine/), about the python API and javacript functions and classes."
      ]
    },
    {
      "cell_type": "markdown",
      "metadata": {
        "id": "3PVddFIyBHzr",
        "colab_type": "text"
      },
      "source": [
        "\n",
        "## Normalized Difference Water Index (NDWI) \n",
        "\n",
        "This practice will focus on obtaining the NDWI from the [EE catallog](https://developers.google.com/earth-engine/datasets/catalog/LANDSAT_LC08_C01_T1_8DAY_NDWI)\n",
        "\n",
        "On the link this link <https://developers.google.com/earth-engine/datasets/catalog/LANDSAT_LC08_C01_T1_8DAY_NDWI> you will find the information about the data.\n",
        "\n",
        "\n",
        "### Installing libraries\n",
        "\n",
        "The first library we will use if **geehydro**, which is pretty handy for water resources. The following code runs the installation if you do now have it."
      ]
    },
    {
      "cell_type": "code",
      "metadata": {
        "colab_type": "code",
        "id": "6B95Hb6YVgPZ",
        "outputId": "e4b59341-f5d9-4930-be3a-7cdc91c41a12",
        "colab": {
          "base_uri": "https://localhost:8080/",
          "height": 34
        }
      },
      "source": [
        "import subprocess\n",
        "\n",
        "try:\n",
        "    import geehydro\n",
        "except ImportError:\n",
        "    print('geehydro package not installed. Installing ...')\n",
        "    subprocess.check_call([\"python\", '-m', 'pip', 'install', 'geehydro'])"
      ],
      "execution_count": 1,
      "outputs": [
        {
          "output_type": "stream",
          "text": [
            "geehydro package not installed. Installing ...\n"
          ],
          "name": "stdout"
        }
      ]
    },
    {
      "cell_type": "markdown",
      "metadata": {
        "id": "dlvIDwVcBRq6",
        "colab_type": "text"
      },
      "source": [
        "The basic libraries required are google earth engine which appear in the following code as ee. However, to install it you will need to type\n",
        "\n",
        "\n",
        "conda update earthengine-api\n",
        "or\n",
        "pip install earthengine-api --upgrade\n",
        "\n",
        "more information can be found here:\n",
        "<https://developers.google.com/earth-engine/python_install>"
      ]
    },
    {
      "cell_type": "code",
      "metadata": {
        "id": "pBskVnGYBTvY",
        "colab_type": "code",
        "colab": {
          "base_uri": "https://localhost:8080/",
          "height": 34
        },
        "outputId": "a4f417ab-bdd1-4247-e5af-f3f955ba770a"
      },
      "source": [
        "import ee\n",
        "import folium\n",
        "import geehydro\n",
        "print(folium.__version__)"
      ],
      "execution_count": 2,
      "outputs": [
        {
          "output_type": "stream",
          "text": [
            "0.8.3\n"
          ],
          "name": "stdout"
        }
      ]
    },
    {
      "cell_type": "markdown",
      "metadata": {
        "id": "-Lxw1RYvBO84",
        "colab_type": "text"
      },
      "source": [
        "Now we need to initialize the library, since is connected to google services. If you have not authenticated the session, you need to uncomment the hash on the first line, in the following code."
      ]
    },
    {
      "cell_type": "code",
      "metadata": {
        "id": "bFIHOnCdBbBp",
        "colab_type": "code",
        "colab": {
          "base_uri": "https://localhost:8080/",
          "height": 176
        },
        "outputId": "31020518-1f00-406b-8507-337d17b44036"
      },
      "source": [
        "ee.Authenticate()\n",
        "ee.Initialize()"
      ],
      "execution_count": 6,
      "outputs": [
        {
          "output_type": "stream",
          "text": [
            "To authorize access needed by Earth Engine, open the following URL in a web browser and follow the instructions. If the web browser does not start automatically, please manually browse the URL below.\n",
            "\n",
            "    https://accounts.google.com/o/oauth2/auth?client_id=517222506229-vsmmajv00ul0bs7p89v5m89qs8eb9359.apps.googleusercontent.com&scope=https%3A%2F%2Fwww.googleapis.com%2Fauth%2Fearthengine+https%3A%2F%2Fwww.googleapis.com%2Fauth%2Fdevstorage.full_control&redirect_uri=urn%3Aietf%3Awg%3Aoauth%3A2.0%3Aoob&response_type=code&code_challenge=_2NjukStFwxgHw6F0UzulUEyoGOkiOzdT_mfxWkO9lI&code_challenge_method=S256\n",
            "\n",
            "The authorization workflow will generate a code, which you should paste in the box below. \n",
            "Enter verification code: 4/0AGkMTxI3992j97VnSaL9FjtHJq1hG39_CBCvN8u-EW8GgCvjGdQdhQ\n",
            "\n",
            "Successfully saved authorization token.\n"
          ],
          "name": "stdout"
        }
      ]
    },
    {
      "cell_type": "markdown",
      "metadata": {
        "id": "hs1XBBEOBrwo",
        "colab_type": "text"
      },
      "source": [
        "### Google Earth Engine (EE) library variables\n",
        "\n",
        "As tensorflow, pandas and numpy, Googel earth engine library (EE) has its own data structures. This is an example of the strings declaration.\n",
        "\n",
        "Normal python string"
      ]
    },
    {
      "cell_type": "code",
      "metadata": {
        "id": "DAd6uqTTByv0",
        "colab_type": "code",
        "colab": {
          "base_uri": "https://localhost:8080/",
          "height": 34
        },
        "outputId": "7df5f779-f82d-4108-8906-dc75ee85fa6e"
      },
      "source": [
        "# traditional python string\n",
        "print('Hello world!')"
      ],
      "execution_count": 3,
      "outputs": [
        {
          "output_type": "stream",
          "text": [
            "Hello world!\n"
          ],
          "name": "stdout"
        }
      ]
    },
    {
      "cell_type": "markdown",
      "metadata": {
        "id": "i03xiz90B0d1",
        "colab_type": "text"
      },
      "source": [
        "An with google earth"
      ]
    },
    {
      "cell_type": "code",
      "metadata": {
        "id": "qVOgJMPRB2d6",
        "colab_type": "code",
        "colab": {
          "base_uri": "https://localhost:8080/",
          "height": 54
        },
        "outputId": "84099a54-7b03-41f5-d255-7325ed590426"
      },
      "source": [
        "Myimage=ee.Image('LANDSAT/LC08/C01/T1/LC08_044034_20140318')\n",
        "print(Myimage.getInfo())"
      ],
      "execution_count": 7,
      "outputs": [
        {
          "output_type": "stream",
          "text": [
            "{'type': 'Image', 'bands': [{'id': 'B1', 'data_type': {'type': 'PixelType', 'precision': 'int', 'min': 0, 'max': 65535}, 'dimensions': [7661, 7801], 'crs': 'EPSG:32610', 'crs_transform': [30, 0, 460785, 0, -30, 4264215]}, {'id': 'B2', 'data_type': {'type': 'PixelType', 'precision': 'int', 'min': 0, 'max': 65535}, 'dimensions': [7661, 7801], 'crs': 'EPSG:32610', 'crs_transform': [30, 0, 460785, 0, -30, 4264215]}, {'id': 'B3', 'data_type': {'type': 'PixelType', 'precision': 'int', 'min': 0, 'max': 65535}, 'dimensions': [7661, 7801], 'crs': 'EPSG:32610', 'crs_transform': [30, 0, 460785, 0, -30, 4264215]}, {'id': 'B4', 'data_type': {'type': 'PixelType', 'precision': 'int', 'min': 0, 'max': 65535}, 'dimensions': [7661, 7801], 'crs': 'EPSG:32610', 'crs_transform': [30, 0, 460785, 0, -30, 4264215]}, {'id': 'B5', 'data_type': {'type': 'PixelType', 'precision': 'int', 'min': 0, 'max': 65535}, 'dimensions': [7661, 7801], 'crs': 'EPSG:32610', 'crs_transform': [30, 0, 460785, 0, -30, 4264215]}, {'id': 'B6', 'data_type': {'type': 'PixelType', 'precision': 'int', 'min': 0, 'max': 65535}, 'dimensions': [7661, 7801], 'crs': 'EPSG:32610', 'crs_transform': [30, 0, 460785, 0, -30, 4264215]}, {'id': 'B7', 'data_type': {'type': 'PixelType', 'precision': 'int', 'min': 0, 'max': 65535}, 'dimensions': [7661, 7801], 'crs': 'EPSG:32610', 'crs_transform': [30, 0, 460785, 0, -30, 4264215]}, {'id': 'B8', 'data_type': {'type': 'PixelType', 'precision': 'int', 'min': 0, 'max': 65535}, 'dimensions': [15321, 15601], 'crs': 'EPSG:32610', 'crs_transform': [15, 0, 460792.5, 0, -15, 4264207.5]}, {'id': 'B9', 'data_type': {'type': 'PixelType', 'precision': 'int', 'min': 0, 'max': 65535}, 'dimensions': [7661, 7801], 'crs': 'EPSG:32610', 'crs_transform': [30, 0, 460785, 0, -30, 4264215]}, {'id': 'B10', 'data_type': {'type': 'PixelType', 'precision': 'int', 'min': 0, 'max': 65535}, 'dimensions': [7661, 7801], 'crs': 'EPSG:32610', 'crs_transform': [30, 0, 460785, 0, -30, 4264215]}, {'id': 'B11', 'data_type': {'type': 'PixelType', 'precision': 'int', 'min': 0, 'max': 65535}, 'dimensions': [7661, 7801], 'crs': 'EPSG:32610', 'crs_transform': [30, 0, 460785, 0, -30, 4264215]}, {'id': 'BQA', 'data_type': {'type': 'PixelType', 'precision': 'int', 'min': 0, 'max': 65535}, 'dimensions': [7661, 7801], 'crs': 'EPSG:32610', 'crs_transform': [30, 0, 460785, 0, -30, 4264215]}], 'id': 'LANDSAT/LC08/C01/T1/LC08_044034_20140318', 'version': 1497472259022000.0, 'properties': {'RADIANCE_MULT_BAND_5': 0.006170900072902441, 'RADIANCE_MULT_BAND_6': 0.001534600043669343, 'RADIANCE_MULT_BAND_3': 0.011958000250160694, 'RADIANCE_MULT_BAND_4': 0.010084000416100025, 'RADIANCE_MULT_BAND_1': 0.012672999873757362, 'RADIANCE_MULT_BAND_2': 0.012977000325918198, 'K2_CONSTANT_BAND_11': 1201.1441650390625, 'K2_CONSTANT_BAND_10': 1321.078857421875, 'system:footprint': {'type': 'LinearRing', 'coordinates': [[-121.3637119499993, 36.41016684133052], [-121.35905784815819, 36.42528989660049], [-121.2315833015866, 36.840374852891664], [-121.09978718573184, 37.26438246506325], [-121.00571062336425, 37.564795515259384], [-120.98453376062118, 37.632161601008896], [-120.95100979452299, 37.73864548098522], [-120.90277241165228, 37.89149086576169], [-120.8836409072059, 37.951976016520376], [-120.85713152433351, 38.03584247073611], [-120.82804345546616, 38.12789513604401], [-122.38148159443172, 38.42337450676813], [-122.9500220192271, 38.525813632077686], [-122.95103687833704, 38.52422133103557], [-122.9569591344694, 38.504384836247866], [-123.43853932998316, 36.805122381748035], [-123.18722447462653, 36.759167415189125], [-121.5105534682754, 36.43765126135182], [-121.36447385999617, 36.408418528930035], [-121.3637119499993, 36.41016684133052]]}, 'REFLECTIVE_SAMPLES': 7661, 'SUN_AZIMUTH': 146.2395782470703, 'CPF_NAME': 'LC08CPF_20140101_20140331_01.01', 'DATE_ACQUIRED': '2014-03-18', 'ELLIPSOID': 'WGS84', 'google:registration_offset_x': 0, 'google:registration_offset_y': 0, 'STATION_ID': 'LGN', 'RESAMPLING_OPTION': 'CUBIC_CONVOLUTION', 'ORIENTATION': 'NORTH_UP', 'WRS_ROW': 34, 'RADIANCE_MULT_BAND_9': 0.0024117000866681337, 'TARGET_WRS_ROW': 34, 'RADIANCE_MULT_BAND_7': 0.0005172499804757535, 'RADIANCE_MULT_BAND_8': 0.0114120002835989, 'IMAGE_QUALITY_TIRS': 9, 'TRUNCATION_OLI': 'UPPER', 'CLOUD_COVER': 0.05999999865889549, 'GEOMETRIC_RMSE_VERIFY': 3.249000072479248, 'COLLECTION_CATEGORY': 'T1', 'GRID_CELL_SIZE_REFLECTIVE': 30, 'CLOUD_COVER_LAND': 0.10000000149011612, 'GEOMETRIC_RMSE_MODEL': 6.78000020980835, 'COLLECTION_NUMBER': 1, 'IMAGE_QUALITY_OLI': 9, 'LANDSAT_SCENE_ID': 'LC80440342014077LGN01', 'WRS_PATH': 44, 'google:registration_count': 0, 'PANCHROMATIC_SAMPLES': 15321, 'PANCHROMATIC_LINES': 15601, 'GEOMETRIC_RMSE_MODEL_Y': 4.747000217437744, 'REFLECTIVE_LINES': 7801, 'TIRS_STRAY_LIGHT_CORRECTION_SOURCE': 'TIRS', 'GEOMETRIC_RMSE_MODEL_X': 4.841000080108643, 'system:asset_size': 1105511852, 'system:index': 'LC08_044034_20140318', 'REFLECTANCE_ADD_BAND_1': -0.10000000149011612, 'REFLECTANCE_ADD_BAND_2': -0.10000000149011612, 'DATUM': 'WGS84', 'REFLECTANCE_ADD_BAND_3': -0.10000000149011612, 'REFLECTANCE_ADD_BAND_4': -0.10000000149011612, 'RLUT_FILE_NAME': 'LC08RLUT_20130211_20150302_01_11.h5', 'REFLECTANCE_ADD_BAND_5': -0.10000000149011612, 'REFLECTANCE_ADD_BAND_6': -0.10000000149011612, 'REFLECTANCE_ADD_BAND_7': -0.10000000149011612, 'REFLECTANCE_ADD_BAND_8': -0.10000000149011612, 'BPF_NAME_TIRS': 'LT8BPF20140318182855_20140318190505.01', 'GROUND_CONTROL_POINTS_VERSION': 4, 'DATA_TYPE': 'L1TP', 'UTM_ZONE': 10, 'LANDSAT_PRODUCT_ID': 'LC08_L1TP_044034_20140318_20170307_01_T1', 'REFLECTANCE_ADD_BAND_9': -0.10000000149011612, 'google:registration_ratio': 0, 'GRID_CELL_SIZE_PANCHROMATIC': 15, 'RADIANCE_ADD_BAND_4': -50.419559478759766, 'REFLECTANCE_MULT_BAND_7': 1.9999999494757503e-05, 'system:time_start': 1395168392050, 'RADIANCE_ADD_BAND_5': -30.854249954223633, 'REFLECTANCE_MULT_BAND_6': 1.9999999494757503e-05, 'RADIANCE_ADD_BAND_6': -7.67317008972168, 'REFLECTANCE_MULT_BAND_9': 1.9999999494757503e-05, 'PROCESSING_SOFTWARE_VERSION': 'LPGS_2.7.0', 'RADIANCE_ADD_BAND_7': -2.5862700939178467, 'REFLECTANCE_MULT_BAND_8': 1.9999999494757503e-05, 'RADIANCE_ADD_BAND_1': -63.364051818847656, 'RADIANCE_ADD_BAND_2': -64.88555908203125, 'RADIANCE_ADD_BAND_3': -59.79148864746094, 'REFLECTANCE_MULT_BAND_1': 1.9999999494757503e-05, 'RADIANCE_ADD_BAND_8': -57.06106185913086, 'REFLECTANCE_MULT_BAND_3': 1.9999999494757503e-05, 'RADIANCE_ADD_BAND_9': -12.058540344238281, 'REFLECTANCE_MULT_BAND_2': 1.9999999494757503e-05, 'REFLECTANCE_MULT_BAND_5': 1.9999999494757503e-05, 'REFLECTANCE_MULT_BAND_4': 1.9999999494757503e-05, 'THERMAL_LINES': 7801, 'TIRS_SSM_POSITION_STATUS': 'NOMINAL', 'GRID_CELL_SIZE_THERMAL': 30, 'NADIR_OFFNADIR': 'NADIR', 'RADIANCE_ADD_BAND_11': 0.10000000149011612, 'REQUEST_ID': '0501703063989_00019', 'EARTH_SUN_DISTANCE': 0.9953709244728088, 'TIRS_SSM_MODEL': 'ACTUAL', 'FILE_DATE': 1488849349000, 'SCENE_CENTER_TIME': '18:46:32.0535800Z', 'SUN_ELEVATION': 46.471065521240234, 'BPF_NAME_OLI': 'LO8BPF20140318183249_20140318190412.01', 'RADIANCE_ADD_BAND_10': 0.10000000149011612, 'ROLL_ANGLE': -0.0010000000474974513, 'K1_CONSTANT_BAND_10': 774.8853149414062, 'SATURATION_BAND_1': 'Y', 'SATURATION_BAND_2': 'Y', 'SATURATION_BAND_3': 'Y', 'SATURATION_BAND_4': 'Y', 'SATURATION_BAND_5': 'Y', 'MAP_PROJECTION': 'UTM', 'SATURATION_BAND_6': 'Y', 'SENSOR_ID': 'OLI_TIRS', 'SATURATION_BAND_7': 'Y', 'K1_CONSTANT_BAND_11': 480.8883056640625, 'SATURATION_BAND_8': 'N', 'SATURATION_BAND_9': 'N', 'TARGET_WRS_PATH': 44, 'RADIANCE_MULT_BAND_11': 0.00033420001273043454, 'RADIANCE_MULT_BAND_10': 0.00033420001273043454, 'GROUND_CONTROL_POINTS_MODEL': 527, 'SPACECRAFT_ID': 'LANDSAT_8', 'ELEVATION_SOURCE': 'GLS2000', 'THERMAL_SAMPLES': 7661, 'GROUND_CONTROL_POINTS_VERIFY': 164}}\n"
          ],
          "name": "stdout"
        }
      ]
    },
    {
      "cell_type": "markdown",
      "metadata": {
        "id": "5AvJXVsxB4Zi",
        "colab_type": "text"
      },
      "source": [
        "### Creating the first interactive map\n",
        "\n",
        "Since in python you will have a local environment, the library folium will help to emulate the online environment. However, the folium library still uses google maps online to load maps. \n"
      ]
    },
    {
      "cell_type": "code",
      "metadata": {
        "id": "c4dWiDTNCMOm",
        "colab_type": "code",
        "colab": {
          "base_uri": "https://localhost:8080/",
          "height": 520
        },
        "outputId": "e3526def-ea8a-44ab-be2f-b7a3f624f4f7"
      },
      "source": [
        "Map = folium.Map(location=[40, -100], zoom_start=12)\n",
        "Map.setOptions('HYBRID')\n",
        "Map"
      ],
      "execution_count": 10,
      "outputs": [
        {
          "output_type": "execute_result",
          "data": {
            "text/html": [
              "<div style=\"width:100%;\"><div style=\"position:relative;width:100%;height:0;padding-bottom:60%;\"><span style=\"color:#565656\">Make this Notebook Trusted to load map: File -> Trust Notebook</span><iframe src=\"about:blank\" style=\"position:absolute;width:100%;height:100%;left:0;top:0;border:none !important;\" data-html=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 onload=\"this.contentDocument.open();this.contentDocument.write(atob(this.getAttribute('data-html')));this.contentDocument.close();\" allowfullscreen webkitallowfullscreen mozallowfullscreen></iframe></div></div>"
            ],
            "text/plain": [
              "<folium.folium.Map at 0x7f08e2e535c0>"
            ]
          },
          "metadata": {
            "tags": []
          },
          "execution_count": 10
        }
      ]
    },
    {
      "cell_type": "markdown",
      "metadata": {
        "id": "luwjpJEiCYCW",
        "colab_type": "text"
      },
      "source": [
        "**Task** Locate your country and change the zoom to 2 and then to 14."
      ]
    },
    {
      "cell_type": "markdown",
      "metadata": {
        "id": "LYmEPBsWCez6",
        "colab_type": "text"
      },
      "source": [
        "We select from a collection of data the period of images to be read"
      ]
    },
    {
      "cell_type": "code",
      "metadata": {
        "id": "IZst65j0D_Oi",
        "colab_type": "code",
        "colab": {}
      },
      "source": [
        "dataset = ee.ImageCollection(\"LANDSAT/LC08/C01/T1_8DAY_NDWI\").filterDate('2017-01-01', '2017-12-31');"
      ],
      "execution_count": 0,
      "outputs": []
    },
    {
      "cell_type": "markdown",
      "metadata": {
        "id": "fTPzdV5NEDOK",
        "colab_type": "text"
      },
      "source": [
        "Then we select the variable to be read as an image"
      ]
    },
    {
      "cell_type": "code",
      "metadata": {
        "id": "CAMhUM4rEGOB",
        "colab_type": "code",
        "colab": {}
      },
      "source": [
        "image = dataset.select('NDWI');"
      ],
      "execution_count": 0,
      "outputs": []
    },
    {
      "cell_type": "markdown",
      "metadata": {
        "id": "5R9gJJwmEHf2",
        "colab_type": "text"
      },
      "source": [
        "We center the Map created before and change the zoom level. And add our image"
      ]
    },
    {
      "cell_type": "code",
      "metadata": {
        "id": "AjkbFEI_ERoY",
        "colab_type": "code",
        "colab": {
          "base_uri": "https://localhost:8080/",
          "height": 520
        },
        "outputId": "c08888e6-e8d4-4d2e-c30f-bff7997084b2"
      },
      "source": [
        "\n",
        "\n",
        "# Display the image.\n",
        "Map.addLayer(image, {}, 'Landsat 8 Normalized Difference Water Index image')\n",
        "Map.setCenter(6.746, 46.529, 6);\n",
        "\n",
        "Map"
      ],
      "execution_count": 19,
      "outputs": [
        {
          "output_type": "execute_result",
          "data": {
            "text/html": [
              "<div style=\"width:100%;\"><div style=\"position:relative;width:100%;height:0;padding-bottom:60%;\"><span style=\"color:#565656\">Make this Notebook Trusted to load map: File -> Trust Notebook</span><iframe src=\"about:blank\" style=\"position:absolute;width:100%;height:100%;left:0;top:0;border:none !important;\" data-html=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 onload=\"this.contentDocument.open();this.contentDocument.write(atob(this.getAttribute('data-html')));this.contentDocument.close();\" allowfullscreen webkitallowfullscreen mozallowfullscreen></iframe></div></div>"
            ],
            "text/plain": [
              "<folium.folium.Map at 0x7f08e2e535c0>"
            ]
          },
          "metadata": {
            "tags": []
          },
          "execution_count": 19
        }
      ]
    },
    {
      "cell_type": "markdown",
      "metadata": {
        "id": "qOrmfry8EsXZ",
        "colab_type": "text"
      },
      "source": [
        "As you can see the map lacks of a color scale and therefore is not possible to interpret or analyse earily any information.\n",
        "So we add a color pallete"
      ]
    },
    {
      "cell_type": "code",
      "metadata": {
        "id": "BZA3Nl1BEVAY",
        "colab_type": "code",
        "colab": {
          "base_uri": "https://localhost:8080/",
          "height": 520
        },
        "outputId": "07381e2e-e0e4-4b18-98c4-602d5afd8b8f"
      },
      "source": [
        "# Define visualization parameters in an object literal.\n",
        "colorizedVis = {\n",
        "    'min': 0.0,\n",
        "    'max': 1.0,\n",
        "    'palette': ['0000ff', '00ffff', 'ffff00', 'ff0000', 'ffffff'],\n",
        "    };\n",
        "Map.addLayer(image, colorizedVis, 'Colorized');\n",
        "Map"
      ],
      "execution_count": 20,
      "outputs": [
        {
          "output_type": "execute_result",
          "data": {
            "text/html": [
              "<div style=\"width:100%;\"><div style=\"position:relative;width:100%;height:0;padding-bottom:60%;\"><span style=\"color:#565656\">Make this Notebook Trusted to load map: File -> Trust Notebook</span><iframe src=\"about:blank\" style=\"position:absolute;width:100%;height:100%;left:0;top:0;border:none !important;\" data-html=PCFET0NUWVBFIGh0bWw+CjxoZWFkPiAgICAKICAgIDxtZXRhIGh0dHAtZXF1aXY9ImNvbnRlbnQtdHlwZSIgY29udGVudD0idGV4dC9odG1sOyBjaGFyc2V0PVVURi04IiAvPgogICAgPHNjcmlwdD5MX1BSRUZFUl9DQU5WQVM9ZmFsc2U7IExfTk9fVE9VQ0g9ZmFsc2U7IExfRElTQUJMRV8zRD1mYWxzZTs8L3NjcmlwdD4KICAgIDxzY3JpcHQgc3JjPSJodHRwczovL2Nkbi5qc2RlbGl2ci5uZXQvbnBtL2xlYWZsZXRAMS40LjAvZGlzdC9sZWFmbGV0LmpzIj48L3NjcmlwdD4KICAgIDxzY3JpcHQgc3JjPSJodHRwczovL2NvZGUuanF1ZXJ5LmNvbS9qcXVlcnktMS4xMi40Lm1pbi5qcyI+PC9zY3JpcHQ+CiAgICA8c2NyaXB0IHNyYz0iaHR0cHM6Ly9tYXhjZG4uYm9vdHN0cmFwY2RuLmNvbS9ib290c3RyYXAvMy4yLjAvanMvYm9vdHN0cmFwLm1pbi5qcyI+PC9zY3JpcHQ+CiAgICA8c2NyaXB0IHNyYz0iaHR0cHM6Ly9jZG5qcy5jbG91ZGZsYXJlLmNvbS9hamF4L2xpYnMvTGVhZmxldC5hd2Vzb21lLW1hcmtlcnMvMi4wLjIvbGVhZmxldC5hd2Vzb21lLW1hcmtlcnMuanMiPjwvc2NyaXB0PgogICAgPGxpbmsgcmVsPSJzdHlsZXNoZWV0IiBocmVmPSJodHRwczovL2Nkbi5qc2RlbGl2ci5uZXQvbnBtL2xlYWZsZXRAMS40LjAvZGlzdC9sZWFmbGV0LmNzcyIvPgogICAgPGxpbmsgcmVsPSJzdHlsZXNoZWV0IiBocmVmPSJodHRwczovL21heGNkbi5ib290c3RyYXBjZG4uY29tL2Jvb3RzdHJhcC8zLjIuMC9jc3MvYm9vdHN0cmFwLm1pbi5jc3MiLz4KICAgIDxsaW5rIHJlbD0ic3R5bGVzaGVldCIgaHJlZj0iaHR0cHM6Ly9tYXhjZG4uYm9vdHN0cmFwY2RuLmNvbS9ib290c3RyYXAvMy4yLjAvY3NzL2Jvb3RzdHJhcC10aGVtZS5taW4uY3NzIi8+CiAgICA8bGluayByZWw9InN0eWxlc2hlZXQiIGhyZWY9Imh0dHBzOi8vbWF4Y2RuLmJvb3RzdHJhcGNkbi5jb20vZm9udC1hd2Vzb21lLzQuNi4zL2Nzcy9mb250LWF3ZXNvbWUubWluLmNzcyIvPgogICAgPGxpbmsgcmVsPSJzdHlsZXNoZWV0IiBocmVmPSJodHRwczovL2NkbmpzLmNsb3VkZmxhcmUuY29tL2FqYXgvbGlicy9MZWFmbGV0LmF3ZXNvbWUtbWFya2Vycy8yLjAuMi9sZWFmbGV0LmF3ZXNvbWUtbWFya2Vycy5jc3MiLz4KICAgIDxsaW5rIHJlbD0ic3R5bGVzaGVldCIgaHJlZj0iaHR0cHM6Ly9yYXdjZG4uZ2l0aGFjay5jb20vcHl0aG9uLXZpc3VhbGl6YXRpb24vZm9saXVtL21hc3Rlci9mb2xpdW0vdGVtcGxhdGVzL2xlYWZsZXQuYXdlc29tZS5yb3RhdGUuY3NzIi8+CiAgICA8c3R5bGU+aHRtbCwgYm9keSB7d2lkdGg6IDEwMCU7aGVpZ2h0OiAxMDAlO21hcmdpbjogMDtwYWRkaW5nOiAwO308L3N0eWxlPgogICAgPHN0eWxlPiNtYXAge3Bvc2l0aW9uOmFic29sdXRlO3RvcDowO2JvdHRvbTowO3JpZ2h0OjA7bGVmdDowO308L3N0eWxlPgogICAgCiAgICA8bWV0YSBuYW1lPSJ2aWV3cG9ydCIgY29udGVudD0id2lkdGg9ZGV2aWNlLXdpZHRoLAogICAgICAgIGluaXRpYWwtc2NhbGU9MS4wLCBtYXhpbXVtLXNjYWxlPTEuMCwgdXNlci1zY2FsYWJsZT1ubyIgLz4KICAgIDxzdHlsZT4jbWFwX2UyMzlhNDA5NGRkYjRmZjRhMTY2YjQzYzEzMTA3NTlmIHsKICAgICAgICBwb3NpdGlvbjogcmVsYXRpdmU7CiAgICAgICAgd2lkdGg6IDEwMC4wJTsKICAgICAgICBoZWlnaHQ6IDEwMC4wJTsKICAgICAgICBsZWZ0OiAwLjAlOwogICAgICAgIHRvcDogMC4wJTsKICAgICAgICB9CiAgICA8L3N0eWxlPgo8L2hlYWQ+Cjxib2R5PiAgICAKICAgIAogICAgPGRpdiBjbGFzcz0iZm9saXVtLW1hcCIgaWQ9Im1hcF9lMjM5YTQwOTRkZGI0ZmY0YTE2NmI0M2MxMzEwNzU5ZiIgPjwvZGl2Pgo8L2JvZHk+CjxzY3JpcHQ+ICAgIAogICAgCiAgICAKICAgICAgICB2YXIgYm91bmRzID0gbnVsbDsKICAgIAoKICAgIHZhciBtYXBfZTIzOWE0MDk0ZGRiNGZmNGExNjZiNDNjMTMxMDc1OWYgPSBMLm1hcCgKICAgICAgICAnbWFwX2UyMzlhNDA5NGRkYjRmZjRhMTY2YjQzYzEzMTA3NTlmJywgewogICAgICAgIGNlbnRlcjogWzQwLCAtMTAwXSwKICAgICAgICB6b29tOiAxMiwKICAgICAgICBtYXhCb3VuZHM6IGJvdW5kcywKICAgICAgICBsYXllcnM6IFtdLAogICAgICAgIHdvcmxkQ29weUp1bXA6IGZhbHNlLAogICAgICAgIGNyczogTC5DUlMuRVBTRzM4NTcsCiAgICAgICAgem9vbUNvbnRyb2w6IHRydWUsCiAgICAgICAgfSk7CgoKICAgIAogICAgdmFyIHRpbGVfbGF5ZXJfZGI2N2U1OWY1NDllNDZlNGI5YWM1MDdjMTY5ZmU5NTUgPSBMLnRpbGVMYXllcigKICAgICAgICAnaHR0cHM6Ly97c30udGlsZS5vcGVuc3RyZWV0bWFwLm9yZy97en0ve3h9L3t5fS5wbmcnLAogICAgICAgIHsKICAgICAgICAiYXR0cmlidXRpb24iOiBudWxsLAogICAgICAgICJkZXRlY3RSZXRpbmEiOiBmYWxzZSwKICAgICAgICAibWF4TmF0aXZlWm9vbSI6IDE4LAogICAgICAgICJtYXhab29tIjogMTgsCiAgICAgICAgIm1pblpvb20iOiAwLAogICAgICAgICJub1dyYXAiOiBmYWxzZSwKICAgICAgICAib3BhY2l0eSI6IDEsCiAgICAgICAgInN1YmRvbWFpbnMiOiAiYWJjIiwKICAgICAgICAidG1zIjogZmFsc2UKfSkuYWRkVG8obWFwX2UyMzlhNDA5NGRkYjRmZjRhMTY2YjQzYzEzMTA3NTlmKTsKICAgIHZhciB0aWxlX2xheWVyX2NmMTZkOTAxYTE0MjQyYzVhOWZlMmJkMzljMjlmMzc3ID0gTC50aWxlTGF5ZXIoCiAgICAgICAgJ2h0dHBzOi8vbXQxLmdvb2dsZS5jb20vdnQvbHlycz15Jng9e3h9Jnk9e3l9Jno9e3p9JywKICAgICAgICB7CiAgICAgICAgImF0dHJpYnV0aW9uIjogIkdvb2dsZSIsCiAgICAgICAgImRldGVjdFJldGluYSI6IGZhbHNlLAogICAgICAgICJtYXhOYXRpdmVab29tIjogMTgsCiAgICAgICAgIm1heFpvb20iOiAxOCwKICAgICAgICAibWluWm9vbSI6IDAsCiAgICAgICAgIm5vV3JhcCI6IGZhbHNlLAogICAgICAgICJvcGFjaXR5IjogMSwKICAgICAgICAic3ViZG9tYWlucyI6ICJhYmMiLAogICAgICAgICJ0bXMiOiBmYWxzZQp9KS5hZGRUbyhtYXBfZTIzOWE0MDk0ZGRiNGZmNGExNjZiNDNjMTMxMDc1OWYpOwogICAgCiAgICAgICAgICAgICAgICAKCiAgICAgICAgICAgICAgICBtYXBfZTIzOWE0MDk0ZGRiNGZmNGExNjZiNDNjMTMxMDc1OWYuZml0Qm91bmRzKAogICAgICAgICAgICAgICAgICAgIFtbLTkwLCAtMTgwXSwgWzkwLCAxODBdXSwKICAgICAgICAgICAgICAgICAgICB7Im1heFpvb20iOiA5fQogICAgICAgICAgICAgICAgICAgICk7CiAgICAgICAgICAgIAogICAgdmFyIHRpbGVfbGF5ZXJfZWZjNDYxOGE4NTNiNGJlNGI0ZjQ4NWMyODA0MDZjZWQgPSBMLnRpbGVMYXllcigKICAgICAgICAnaHR0cHM6Ly9lYXJ0aGVuZ2luZS5nb29nbGVhcGlzLmNvbS92MWFscGhhL3Byb2plY3RzL2VhcnRoZW5naW5lLWxlZ2FjeS9tYXBzLzhmMmZhNzk4Y2EzNDdlMjQwMWM4MmY1YTc0NDllZTM1LTNlYTg2YjIxMWEwYjlkM2U1NjYxMjg4OTZiMjQxY2Y0L3RpbGVzL3t6fS97eH0ve3l9JywKICAgICAgICB7CiAgICAgICAgImF0dHJpYnV0aW9uIjogIkdvb2dsZSBFYXJ0aCBFbmdpbmUiLAogICAgICAgICJkZXRlY3RSZXRpbmEiOiBmYWxzZSwKICAgICAgICAibWF4TmF0aXZlWm9vbSI6IDE4LAogICAgICAgICJtYXhab29tIjogMTgsCiAgICAgICAgIm1pblpvb20iOiAwLAogICAgICAgICJub1dyYXAiOiBmYWxzZSwKICAgICAgICAib3BhY2l0eSI6IDEsCiAgICAgICAgInN1YmRvbWFpbnMiOiAiYWJjIiwKICAgICAgICAidG1zIjogZmFsc2UKfSkuYWRkVG8obWFwX2UyMzlhNDA5NGRkYjRmZjRhMTY2YjQzYzEzMTA3NTlmKTsKICAgIAogICAgICAgICAgICAgICAgCgogICAgICAgICAgICAgICAgbWFwX2UyMzlhNDA5NGRkYjRmZjRhMTY2YjQzYzEzMTA3NTlmLmZpdEJvdW5kcygKICAgICAgICAgICAgICAgICAgICBbWy05MCwgLTE4MF0sIFs5MCwgMTgwXV0sCiAgICAgICAgICAgICAgICAgICAgeyJtYXhab29tIjogOX0KICAgICAgICAgICAgICAgICAgICApOwogICAgICAgICAgICAKICAgIHZhciB0aWxlX2xheWVyX2MxOTI4MDgyYTUyYjQ3NDg5YTFhZTZiOTVjYjk5ZDhiID0gTC50aWxlTGF5ZXIoCiAgICAgICAgJ2h0dHBzOi8vZWFydGhlbmdpbmUuZ29vZ2xlYXBpcy5jb20vdjFhbHBoYS9wcm9qZWN0cy9lYXJ0aGVuZ2luZS1sZWdhY3kvbWFwcy84ZjJmYTc5OGNhMzQ3ZTI0MDFjODJmNWE3NDQ5ZWUzNS1kZTkyZjljYzFiMzQxOTYzNTJhNzQzOTRhYTFhMDY5ZC90aWxlcy97en0ve3h9L3t5fScsCiAgICAgICAgewogICAgICAgICJhdHRyaWJ1dGlvbiI6ICJHb29nbGUgRWFydGggRW5naW5lIiwKICAgICAgICAiZGV0ZWN0UmV0aW5hIjogZmFsc2UsCiAgICAgICAgIm1heE5hdGl2ZVpvb20iOiAxOCwKICAgICAgICAibWF4Wm9vbSI6IDE4LAogICAgICAgICJtaW5ab29tIjogMCwKICAgICAgICAibm9XcmFwIjogZmFsc2UsCiAgICAgICAgIm9wYWNpdHkiOiAxLAogICAgICAgICJzdWJkb21haW5zIjogImFiYyIsCiAgICAgICAgInRtcyI6IGZhbHNlCn0pLmFkZFRvKG1hcF9lMjM5YTQwOTRkZGI0ZmY0YTE2NmI0M2MxMzEwNzU5Zik7CiAgICAKICAgICAgICAgICAgICAgIAoKICAgICAgICAgICAgICAgIG1hcF9lMjM5YTQwOTRkZGI0ZmY0YTE2NmI0M2MxMzEwNzU5Zi5maXRCb3VuZHMoCiAgICAgICAgICAgICAgICAgICAgW1stOTAsIC0xODBdLCBbOTAsIDE4MF1dLAogICAgICAgICAgICAgICAgICAgIHsibWF4Wm9vbSI6IDl9CiAgICAgICAgICAgICAgICAgICAgKTsKICAgICAgICAgICAgCiAgICB2YXIgdGlsZV9sYXllcl85ZGJhYTAyOGNhNDk0NmRmOTRiZmI3MTAyYTYzMDQxOSA9IEwudGlsZUxheWVyKAogICAgICAgICdodHRwczovL2VhcnRoZW5naW5lLmdvb2dsZWFwaXMuY29tL3YxYWxwaGEvcHJvamVjdHMvZWFydGhlbmdpbmUtbGVnYWN5L21hcHMvOGYyZmE3OThjYTM0N2UyNDAxYzgyZjVhNzQ0OWVlMzUtOTlmM2I4NzQyOWUwNTY0MDBkZWQ1Y2ZhZDA3NmMzOTkvdGlsZXMve3p9L3t4fS97eX0nLAogICAgICAgIHsKICAgICAgICAiYXR0cmlidXRpb24iOiAiR29vZ2xlIEVhcnRoIEVuZ2luZSIsCiAgICAgICAgImRldGVjdFJldGluYSI6IGZhbHNlLAogICAgICAgICJtYXhOYXRpdmVab29tIjogMTgsCiAgICAgICAgIm1heFpvb20iOiAxOCwKICAgICAgICAibWluWm9vbSI6IDAsCiAgICAgICAgIm5vV3JhcCI6IGZhbHNlLAogICAgICAgICJvcGFjaXR5IjogMSwKICAgICAgICAic3ViZG9tYWlucyI6ICJhYmMiLAogICAgICAgICJ0bXMiOiBmYWxzZQp9KS5hZGRUbyhtYXBfZTIzOWE0MDk0ZGRiNGZmNGExNjZiNDNjMTMxMDc1OWYpOwogICAgdmFyIHRpbGVfbGF5ZXJfMjhjNjJhZWYxMDM4NGY5YmIyYTAzMjBlYzU5MzEyYWIgPSBMLnRpbGVMYXllcigKICAgICAgICAnaHR0cHM6Ly9lYXJ0aGVuZ2luZS5nb29nbGVhcGlzLmNvbS92MWFscGhhL3Byb2plY3RzL2VhcnRoZW5naW5lLWxlZ2FjeS9tYXBzLzhmMmZhNzk4Y2EzNDdlMjQwMWM4MmY1YTc0NDllZTM1LTg0YjI0ODI1OTNhODg5Y2NjMDcwOWNmNDRkMjIyMGQ3L3RpbGVzL3t6fS97eH0ve3l9JywKICAgICAgICB7CiAgICAgICAgImF0dHJpYnV0aW9uIjogIkdvb2dsZSBFYXJ0aCBFbmdpbmUiLAogICAgICAgICJkZXRlY3RSZXRpbmEiOiBmYWxzZSwKICAgICAgICAibWF4TmF0aXZlWm9vbSI6IDE4LAogICAgICAgICJtYXhab29tIjogMTgsCiAgICAgICAgIm1pblpvb20iOiAwLAogICAgICAgICJub1dyYXAiOiBmYWxzZSwKICAgICAgICAib3BhY2l0eSI6IDEsCiAgICAgICAgInN1YmRvbWFpbnMiOiAiYWJjIiwKICAgICAgICAidG1zIjogZmFsc2UKfSkuYWRkVG8obWFwX2UyMzlhNDA5NGRkYjRmZjRhMTY2YjQzYzEzMTA3NTlmKTsKICAgIAogICAgICAgICAgICAgICAgCgogICAgICAgICAgICAgICAgbWFwX2UyMzlhNDA5NGRkYjRmZjRhMTY2YjQzYzEzMTA3NTlmLmZpdEJvdW5kcygKICAgICAgICAgICAgICAgICAgICBbWzQ2LjUyOSwgNi43NDZdLCBbNDYuNTI5LCA2Ljc0Nl1dLAogICAgICAgICAgICAgICAgICAgIHsibWF4Wm9vbSI6IDZ9CiAgICAgICAgICAgICAgICAgICAgKTsKICAgICAgICAgICAgCiAgICB2YXIgdGlsZV9sYXllcl8yMjQxNzRmZmViZDg0ZTg1YjU2N2M4ZDk0ZTRiMTI1MSA9IEwudGlsZUxheWVyKAogICAgICAgICdodHRwczovL2VhcnRoZW5naW5lLmdvb2dsZWFwaXMuY29tL3YxYWxwaGEvcHJvamVjdHMvZWFydGhlbmdpbmUtbGVnYWN5L21hcHMvOGNjOTVlOTYxMzRjZTNhZDc3MWE1ZjUxMWE1ZjI4MGMtYTJjMDBhMTQyOWY0MGE5MmQ3YTIwN2JjODU0ZGRhZDgvdGlsZXMve3p9L3t4fS97eX0nLAogICAgICAgIHsKICAgICAgICAiYXR0cmlidXRpb24iOiAiR29vZ2xlIEVhcnRoIEVuZ2luZSIsCiAgICAgICAgImRldGVjdFJldGluYSI6IGZhbHNlLAogICAgICAgICJtYXhOYXRpdmVab29tIjogMTgsCiAgICAgICAgIm1heFpvb20iOiAxOCwKICAgICAgICAibWluWm9vbSI6IDAsCiAgICAgICAgIm5vV3JhcCI6IGZhbHNlLAogICAgICAgICJvcGFjaXR5IjogMSwKICAgICAgICAic3ViZG9tYWlucyI6ICJhYmMiLAogICAgICAgICJ0bXMiOiBmYWxzZQp9KS5hZGRUbyhtYXBfZTIzOWE0MDk0ZGRiNGZmNGExNjZiNDNjMTMxMDc1OWYpOwo8L3NjcmlwdD4= onload=\"this.contentDocument.open();this.contentDocument.write(atob(this.getAttribute('data-html')));this.contentDocument.close();\" allowfullscreen webkitallowfullscreen mozallowfullscreen></iframe></div></div>"
            ],
            "text/plain": [
              "<folium.folium.Map at 0x7f08e2e535c0>"
            ]
          },
          "metadata": {
            "tags": []
          },
          "execution_count": 20
        }
      ]
    },
    {
      "cell_type": "markdown",
      "metadata": {
        "id": "OWyjcNSiFGyH",
        "colab_type": "text"
      },
      "source": [
        "Now if we want political boundaries of the countries we can use one of the feature collections (which contains shape files or features)"
      ]
    },
    {
      "cell_type": "code",
      "metadata": {
        "id": "f-OjZY6QFI09",
        "colab_type": "code",
        "colab": {
          "base_uri": "https://localhost:8080/",
          "height": 520
        },
        "outputId": "4bcf89f3-8804-41e4-cd29-fba07c165e12"
      },
      "source": [
        "counties = ee.FeatureCollection('TIGER/2016/Counties')\n",
        "Map.addLayer(counties, {}, 'counties')\n",
        "Map"
      ],
      "execution_count": 21,
      "outputs": [
        {
          "output_type": "execute_result",
          "data": {
            "text/html": [
              "<div style=\"width:100%;\"><div style=\"position:relative;width:100%;height:0;padding-bottom:60%;\"><span style=\"color:#565656\">Make this Notebook Trusted to load map: File -> Trust Notebook</span><iframe src=\"about:blank\" style=\"position:absolute;width:100%;height:100%;left:0;top:0;border:none !important;\" data-html=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 onload=\"this.contentDocument.open();this.contentDocument.write(atob(this.getAttribute('data-html')));this.contentDocument.close();\" allowfullscreen webkitallowfullscreen mozallowfullscreen></iframe></div></div>"
            ],
            "text/plain": [
              "<folium.folium.Map at 0x7f08e2e535c0>"
            ]
          },
          "metadata": {
            "tags": []
          },
          "execution_count": 21
        }
      ]
    },
    {
      "cell_type": "markdown",
      "metadata": {
        "id": "m2gJOr-lFp53",
        "colab_type": "text"
      },
      "source": [
        "As you can see it is not possible to see the layer since one is on top of the other. In this case would be handy to add the contro visibility for the layer. "
      ]
    },
    {
      "cell_type": "code",
      "metadata": {
        "id": "bWXxYspUFoaN",
        "colab_type": "code",
        "colab": {
          "base_uri": "https://localhost:8080/",
          "height": 520
        },
        "outputId": "65bd18a4-c524-482b-fc2e-0ad063d2b2b9"
      },
      "source": [
        "Map.setControlVisibility(layerControl=True, fullscreenControl=True, latLngPopup=True)\n",
        "Map"
      ],
      "execution_count": 22,
      "outputs": [
        {
          "output_type": "execute_result",
          "data": {
            "text/html": [
              "<div style=\"width:100%;\"><div style=\"position:relative;width:100%;height:0;padding-bottom:60%;\"><span style=\"color:#565656\">Make this Notebook Trusted to load map: File -> Trust Notebook</span><iframe src=\"about:blank\" style=\"position:absolute;width:100%;height:100%;left:0;top:0;border:none !important;\" data-html=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 onload=\"this.contentDocument.open();this.contentDocument.write(atob(this.getAttribute('data-html')));this.contentDocument.close();\" allowfullscreen webkitallowfullscreen mozallowfullscreen></iframe></div></div>"
            ],
            "text/plain": [
              "<folium.folium.Map at 0x7f08e2e535c0>"
            ]
          },
          "metadata": {
            "tags": []
          },
          "execution_count": 22
        }
      ]
    },
    {
      "cell_type": "markdown",
      "metadata": {
        "id": "lzhdw7D8CZpg",
        "colab_type": "text"
      },
      "source": [
        "\n",
        "### Examples website\n",
        "\n",
        "If you want to knoe more about the geehydro examples\n",
        "<https://github.com/giswqs/earthengine-py-notebooks/blob/master/GetStarted/10_get_started_with_EE.ipynb>\n",
        "\n",
        "\n",
        "This repository is a collection of 360+ Jupyter Python notebook examples.\n",
        "[Python notebooks](https://github.com/giswqs/earthengine-py-notebooks)\n",
        "\n",
        "<https://github.com/renelikestacos/Google-Earth-Engine-Python-Examples/blob/master/001_EE_Classification_Landsat_8_TOA.ipynb>\n"
      ]
    },
    {
      "cell_type": "code",
      "metadata": {
        "id": "qiZJUKUuCV80",
        "colab_type": "code",
        "colab": {}
      },
      "source": [
        ""
      ],
      "execution_count": 0,
      "outputs": []
    },
    {
      "cell_type": "code",
      "metadata": {
        "colab_type": "code",
        "id": "_wqSAZExy6xV",
        "colab": {}
      },
      "source": [
        "# Your Earth Engine username.  This is used to import a classified image\n",
        "# into your Earth Engine assets folder.\n",
        "USER_NAME = 'username'\n",
        "\n",
        "# Cloud Storage bucket into which training, testing and prediction \n",
        "# datasets will be written.  You must be able to write into this bucket.\n",
        "OUTPUT_BUCKET = 'HI store'\n",
        "\n",
        "PEra5=ee.ImageCollection(\"ECMWF/ERA5/DAILY\")\n",
        "BandPEra = ['total_precipitation', 'maximum_2m_air_temperature', 'B4', 'B5', 'B6', 'B7']\n",
        "\n",
        "# Use Landsat 8 surface reflectance data for predictors.\n",
        "L8SR = ee.ImageCollection('LANDSAT/LC08/C01/T1_SR')\n",
        "# Use these bands for prediction.\n",
        "BANDS = ['B2', 'B3', 'B4', 'B5', 'B6', 'B7']"
      ],
      "execution_count": 0,
      "outputs": []
    },
    {
      "cell_type": "code",
      "metadata": {
        "colab_type": "code",
        "id": "Ao7fJW1Pyiza",
        "colab": {}
      },
      "source": [
        "\n",
        "# This is a trianing/testing dataset of points with known land cover labels.\n",
        "LABEL_DATA = ee.FeatureCollection('projects/google/demo_landcover_labels')\n",
        "# The labels, consecutive integer indices starting from zero, are stored in\n",
        "# this property, set on each point.\n",
        "LABEL = 'landcover'\n",
        "# Number of label values, i.e. number of classes in the classification.\n",
        "N_CLASSES = 3\n",
        "\n",
        "# These names are used to specify properties in the export of\n",
        "# training/testing data and to define the mapping between names and data\n",
        "# when reading into TensorFlow datasets.\n",
        "FEATURE_NAMES = list(BANDS)\n",
        "FEATURE_NAMES.append(LABEL)\n",
        "\n",
        "# File names for the training and testing datasets.  These TFRecord files\n",
        "# will be exported from Earth Engine into the Cloud Storage bucket.\n",
        "TRAIN_FILE_PREFIX = 'Training_demo'\n",
        "TEST_FILE_PREFIX = 'Testing_demo'\n",
        "file_extension = '.tfrecord.gz'\n",
        "TRAIN_FILE_PATH = 'gs://' + OUTPUT_BUCKET + '/' + TRAIN_FILE_PREFIX + file_extension\n",
        "TEST_FILE_PATH = 'gs://' + OUTPUT_BUCKET + '/' + TEST_FILE_PREFIX + file_extension\n",
        "\n",
        "# File name for the prediction (image) dataset.  The trained model will read\n",
        "# this dataset and make predictions in each pixel.\n",
        "IMAGE_FILE_PREFIX = 'Image_pixel_demo_'\n",
        "\n",
        "# The output path for the classified image (i.e. predictions) TFRecord file.\n",
        "OUTPUT_IMAGE_FILE = 'gs://' + OUTPUT_BUCKET + '/Classified_pixel_demo.TFRecord'\n",
        "# Export imagery in this region.\n",
        "EXPORT_REGION = ee.Geometry.Rectangle([-122.7, 37.3, -121.8, 38.00])\n",
        "# The name of the Earth Engine asset to be created by importing\n",
        "# the classified image from the TFRecord file in Cloud Storage.\n",
        "OUTPUT_ASSET_ID = 'users/' + USER_NAME + '/Classified_pixel_demo'"
      ],
      "execution_count": 0,
      "outputs": []
    },
    {
      "cell_type": "markdown",
      "metadata": {
        "id": "fPsFW8_f-sVZ",
        "colab_type": "text"
      },
      "source": [
        "A good website to explore is the following\n",
        "\n",
        " https://github.com/giswqs/earthengine-py-notebooks\n",
        " \n",
        " https://github.com/renelikestacos/Google-Earth-Engine-Python-Examples\n"
      ]
    },
    {
      "cell_type": "markdown",
      "metadata": {
        "id": "DZiyGABeK_Wz",
        "colab_type": "text"
      },
      "source": [
        "## Home work\n",
        "### Short practice in Google earth\n",
        "\n",
        "After the following section you can try to read the same data but using the Earth Engine library\n",
        "\n",
        "https://code.earthengine.google.com/?scriptPath=Examples%3ADatasets%2FECMWF_ERA5_DAILY\n",
        "\n",
        "\n",
        "For this exercise we will select precipitation data. Google earth provide a large variety of data from different sources. Lest select daily aggregates from Era5 <https://developers.google.com/earth-engine/datasets/tags/precipitation>."
      ]
    },
    {
      "cell_type": "code",
      "metadata": {
        "id": "IYVeqeuMsK_T",
        "colab_type": "code",
        "outputId": "f9430b4d-a293-4974-d531-810c56e0b5c0",
        "colab": {
          "base_uri": "https://localhost:8080/",
          "height": 34
        }
      },
      "source": [
        "import tensorflow as tf\n",
        "print(tf.__version__)"
      ],
      "execution_count": 0,
      "outputs": [
        {
          "output_type": "stream",
          "text": [
            "2.2.0\n"
          ],
          "name": "stdout"
        }
      ]
    },
    {
      "cell_type": "code",
      "metadata": {
        "id": "O5AgsPye61Q0",
        "colab_type": "code",
        "outputId": "5bd89d04-b06e-4a24-e332-8f0c3192930f",
        "cellView": "form",
        "colab": {
          "base_uri": "https://localhost:8080/",
          "height": 69
        }
      },
      "source": [
        "#@title Magic tools for jupyter notebook\n",
        "%%html\n",
        "<marquee style='width: 50%; color: blue;'><b>Welcome to Hydroinformatics Lab session</b></marquee>\n",
        "<br>\n",
        "\n",
        "#@markdown To be able to load any jupyter extension %load_ext\n",
        "\n",
        "#@markdown To be able to use Jupyter Magic features just use %%"
      ],
      "execution_count": 0,
      "outputs": [
        {
          "output_type": "display_data",
          "data": {
            "text/html": [
              "<marquee style='width: 50%; color: blue;'><b>Welcome to Hydroinformatics Lab session</b></marquee>\n",
              "<br>\n",
              "\n",
              "#@markdown To be able to load any jupyter extension %load_ext\n",
              "\n",
              "#@markdown To be able to use Jupyter Magic features just use %%"
            ],
            "text/plain": [
              "<IPython.core.display.HTML object>"
            ]
          },
          "metadata": {
            "tags": []
          }
        }
      ]
    }
  ]
}